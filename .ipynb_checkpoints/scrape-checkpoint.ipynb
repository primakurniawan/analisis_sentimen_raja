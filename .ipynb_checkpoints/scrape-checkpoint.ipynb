{
 "cells": [
  {
   "cell_type": "markdown",
   "id": "8e371541",
   "metadata": {},
   "source": [
    "# Scrape Twitter"
   ]
  },
  {
   "cell_type": "code",
   "execution_count": null,
   "id": "e233e6d8",
   "metadata": {},
   "outputs": [],
   "source": [
    "import snscrape.modules.twitter as sntwitter\n",
    "import pandas as pd\n",
    "\n",
    "# Creating list to append tweet data to\n",
    "tweets = []\n",
    "\n",
    "# Using TwitterSearchScraper to scrape data and append tweets to list\n",
    "for i,tweet in enumerate(sntwitter.TwitterSearchScraper('omicron lang:id').get_items()):\n",
    "    if i>50000:\n",
    "        break\n",
    "    if 'omicron' in tweet.content:\n",
    "        tweets.append(tweet)\n",
    "    \n",
    "# Creating a dataframe to load the list\n",
    "tweets_df = pd.DataFrame(tweets)\n",
    "tweets_df['date'] = tweets_df['date'].apply(lambda a: pd.to_datetime(a).date()) \n",
    "tweets_df.to_excel('scrape_twitter.xlsx')\n",
    "tweets_df.head()"
   ]
  },
  {
   "cell_type": "markdown",
   "id": "86d56f40",
   "metadata": {},
   "source": [
    "# Scrape Facebook"
   ]
  },
  {
   "cell_type": "code",
   "execution_count": null,
   "id": "63b7d013",
   "metadata": {},
   "outputs": [],
   "source": [
    "from facebook_scraper import get_posts\n",
    "comments=[]\n",
    "import pandas as pd\n",
    "for post in get_posts(post_urls=[\"https://www.facebook.com/145990654824/posts/pfbid0jNMYt4Xkg5bzxLbU1FbuEX25jGaKnnosNztTCah43ENSuvF3uUf5P4w1Sq7WZ7CFl/\", \"https://www.facebook.com/100069391441539/posts/pfbid0MWXyuHp7EY14PwRSUGKe5b49r8LTuWYAHoEDWNxytJir8UC64BcKygzE6abDxXucl/\"], options={\"comments\": True, \"progress\": True}):\n",
    "    comments = comments + post['comments_full']\n",
    "df = pd.DataFrame(comments)\n",
    "df.to_excel(\"scrape_facebook.xlsx\")\n",
    "df.head()"
   ]
  },
  {
   "cell_type": "markdown",
   "id": "dec09791",
   "metadata": {},
   "source": [
    "# Merge Scrape Data"
   ]
  },
  {
   "cell_type": "code",
   "execution_count": null,
   "id": "64ac3737",
   "metadata": {},
   "outputs": [],
   "source": [
    "import pandas as pd\n",
    "\n",
    "twitter = pd.read_excel('scrape_twitter.xlsx')\n",
    "facebook = pd.read_excel('scrape_facebook.xlsx')\n",
    "instagram = pd.read_excel('scrape_instagram.xlsx')\n",
    "\n",
    "twitter_ = twitter.content\n",
    "facebook_ = facebook.comment_text\n",
    "instagram_ = instagram.text\n",
    "sentiment = pd.concat([twitter_, facebook_, instagram_], ignore_index=True)\n",
    "df = pd.DataFrame(sentiment, columns=['content'])\n",
    "df.to_excel('raw_sentiment.xlsx')\n",
    "df.head()"
   ]
  }
 ],
 "metadata": {
  "kernelspec": {
   "display_name": "Python 3 (ipykernel)",
   "language": "python",
   "name": "python3"
  },
  "language_info": {
   "codemirror_mode": {
    "name": "ipython",
    "version": 3
   },
   "file_extension": ".py",
   "mimetype": "text/x-python",
   "name": "python",
   "nbconvert_exporter": "python",
   "pygments_lexer": "ipython3",
   "version": "3.9.5"
  }
 },
 "nbformat": 4,
 "nbformat_minor": 5
}
