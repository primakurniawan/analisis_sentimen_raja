{
 "cells": [
  {
   "cell_type": "code",
   "execution_count": 43,
   "id": "6cc1c130",
   "metadata": {},
   "outputs": [
    {
     "name": "stdout",
     "output_type": "stream",
     "text": [
      "berhasil menyimpan data omicron tinggi.xlsx\n"
     ]
    }
   ],
   "source": [
    "import tweepy\n",
    "import pandas as pd\n",
    "from tqdm import tqdm\n",
    "\n",
    "client = tweepy.Client(bearer_token='AAAAAAAAAAAAAAAAAAAAAKYYgQEAAAAA7V0jpne%2BzF6WlwPkjDUQa%2FostWo%3DSDmxDGORJ9tznP3AhEIFbkRsxoOUFQoe9x4YCluQCjrKkgpCYB', consumer_key='xgjL461YTiWyJ0gyApVFnQK3M', consumer_secret='6jRnYn6ANu5QaFrY3rpBzQDxAzZ26gUHGWq9PjDUZejz7O4lfG', access_token='1436172342678286339-OUJose0JedCxmwatvbUlHsEwmlfY1I', access_token_secret='dU2pIBijcZcywJlOuaIJAeLlkE75Br9SN4nD76TkeImiJ',)\n",
    "\n",
    "# Replace with your own search query\n",
    "query = 'omicron tinggi'\n",
    "\n",
    "file_name = query+'.xlsx'\n",
    "\n",
    "tweets=[]\n",
    "# Replace the limit=1000 with the maximum number of Tweets you want\n",
    "for tweet in tweepy.Paginator(client.search_recent_tweets, query=query, max_results=100).flatten(limit=10000):\n",
    "    if (tweet.text not in tweets):\n",
    "        tweets.append(tweet.text)\n",
    "data = pd.DataFrame(tweets)\n",
    "data.to_excel(file_name, index=False)\n",
    "print ('berhasil menyimpan data '+ file_name)"
   ]
  },
  {
   "cell_type": "code",
   "execution_count": null,
   "id": "623b63b7",
   "metadata": {},
   "outputs": [],
   "source": [
    "import snscrape.modules.twitter as sntwitter\n",
    "import pandas as pd\n",
    "\n",
    "# Creating list to append tweet data to\n",
    "tweets = []\n",
    "\n",
    "# Using TwitterSearchScraper to scrape data and append tweets to list\n",
    "for i,tweet in enumerate(sntwitter.TwitterSearchScraper('omicron lang:id').get_items()):\n",
    "    if i>100000:\n",
    "        break\n",
    "    if 'omicron' in tweet.content:\n",
    "        tweets.append(tweet.content)\n",
    "    \n",
    "# Creating a dataframe to load the list\n",
    "tweets_df = pd.DataFrame(tweets)\n",
    "tweets_df.to_excel('omicron.xlsx')"
   ]
  },
  {
   "cell_type": "code",
   "execution_count": null,
   "id": "6b23d8ec",
   "metadata": {},
   "outputs": [],
   "source": [
    "tweets_df.head()"
   ]
  },
  {
   "cell_type": "code",
   "execution_count": null,
   "id": "4c40abac",
   "metadata": {},
   "outputs": [],
   "source": [
    "tweets_df.to_excel('omicron.xlsx')"
   ]
  },
  {
   "cell_type": "code",
   "execution_count": null,
   "id": "f3e911de",
   "metadata": {},
   "outputs": [],
   "source": []
  }
 ],
 "metadata": {
  "kernelspec": {
   "display_name": "Python 3 (ipykernel)",
   "language": "python",
   "name": "python3"
  },
  "language_info": {
   "codemirror_mode": {
    "name": "ipython",
    "version": 3
   },
   "file_extension": ".py",
   "mimetype": "text/x-python",
   "name": "python",
   "nbconvert_exporter": "python",
   "pygments_lexer": "ipython3",
   "version": "3.9.5"
  }
 },
 "nbformat": 4,
 "nbformat_minor": 5
}
