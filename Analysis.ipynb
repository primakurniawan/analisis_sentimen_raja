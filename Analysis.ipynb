{
 "cells": [
  {
   "cell_type": "markdown",
   "metadata": {},
   "source": [
    "# Import Packages"
   ]
  },
  {
   "cell_type": "code",
   "execution_count": 1,
   "metadata": {},
   "outputs": [],
   "source": [
    "import pandas as pd\n",
    "import numpy as np\n",
    "from datetime import datetime,timedelta\n",
    "import pytz \n",
    "import re\n",
    "import nltk\n",
    "from nltk.corpus import stopwords\n",
    "from nltk.tokenize import word_tokenize\n",
    "import ast\n",
    "import string\n",
    "from wordcloud import WordCloud\n",
    "from Sastrawi.Stemmer.StemmerFactory import StemmerFactory\n",
    "import itertools\n",
    "import matplotlib.pyplot as plt\n",
    "import seaborn as sns\n",
    "from googletrans import Translator"
   ]
  },
  {
   "cell_type": "markdown",
   "metadata": {},
   "source": [
    "# Import Data"
   ]
  },
  {
   "cell_type": "code",
   "execution_count": 92,
   "metadata": {},
   "outputs": [],
   "source": [
    "# df = pd.read_csv('data/data_extraction/covid19_indonesia.csv')\n",
    "df = pd.read_csv('omicron.csv')"
   ]
  },
  {
   "cell_type": "code",
   "execution_count": 93,
   "metadata": {},
   "outputs": [
    {
     "data": {
      "text/html": [
       "<div>\n",
       "<style scoped>\n",
       "    .dataframe tbody tr th:only-of-type {\n",
       "        vertical-align: middle;\n",
       "    }\n",
       "\n",
       "    .dataframe tbody tr th {\n",
       "        vertical-align: top;\n",
       "    }\n",
       "\n",
       "    .dataframe thead th {\n",
       "        text-align: right;\n",
       "    }\n",
       "</style>\n",
       "<table border=\"1\" class=\"dataframe\">\n",
       "  <thead>\n",
       "    <tr style=\"text-align: right;\">\n",
       "      <th></th>\n",
       "      <th>Unnamed: 0</th>\n",
       "      <th>url</th>\n",
       "      <th>date</th>\n",
       "      <th>content</th>\n",
       "      <th>renderedContent</th>\n",
       "      <th>id</th>\n",
       "      <th>user</th>\n",
       "      <th>replyCount</th>\n",
       "      <th>retweetCount</th>\n",
       "      <th>likeCount</th>\n",
       "      <th>...</th>\n",
       "      <th>media</th>\n",
       "      <th>retweetedTweet</th>\n",
       "      <th>quotedTweet</th>\n",
       "      <th>inReplyToTweetId</th>\n",
       "      <th>inReplyToUser</th>\n",
       "      <th>mentionedUsers</th>\n",
       "      <th>coordinates</th>\n",
       "      <th>place</th>\n",
       "      <th>hashtags</th>\n",
       "      <th>cashtags</th>\n",
       "    </tr>\n",
       "  </thead>\n",
       "  <tbody>\n",
       "    <tr>\n",
       "      <th>0</th>\n",
       "      <td>0</td>\n",
       "      <td>https://twitter.com/noturfavgerl/status/1562274507465039873</td>\n",
       "      <td>2022-08-24</td>\n",
       "      <td>Semoga g omicron ya Tuhan</td>\n",
       "      <td>Semoga g omicron ya Tuhan</td>\n",
       "      <td>1562274507465039873</td>\n",
       "      <td>{'username': 'noturfavgerl', 'id': 720864294426902528, 'displayname': \"zoro's wife\", 'descriptio...</td>\n",
       "      <td>0</td>\n",
       "      <td>0</td>\n",
       "      <td>0</td>\n",
       "      <td>...</td>\n",
       "      <td>NaN</td>\n",
       "      <td>NaN</td>\n",
       "      <td>NaN</td>\n",
       "      <td>NaN</td>\n",
       "      <td>NaN</td>\n",
       "      <td>NaN</td>\n",
       "      <td>NaN</td>\n",
       "      <td>NaN</td>\n",
       "      <td>NaN</td>\n",
       "      <td>NaN</td>\n",
       "    </tr>\n",
       "    <tr>\n",
       "      <th>1</th>\n",
       "      <td>1</td>\n",
       "      <td>https://twitter.com/SandalJ33651908/status/1562261673603239936</td>\n",
       "      <td>2022-08-24</td>\n",
       "      <td>@dinagustavsson Ada delta,omicron ,cacar munyuk,sampe HIV....\\nSEMUANYA AKIBAT VAX C19...\\nBERUN...</td>\n",
       "      <td>@dinagustavsson Ada delta,omicron ,cacar munyuk,sampe HIV....\\nSEMUANYA AKIBAT VAX C19...\\nBERUN...</td>\n",
       "      <td>1562261673603239936</td>\n",
       "      <td>{'username': 'SandalJ33651908', 'id': 1376897043075981315, 'displayname': 'PAK DHE', 'descriptio...</td>\n",
       "      <td>0</td>\n",
       "      <td>0</td>\n",
       "      <td>1</td>\n",
       "      <td>...</td>\n",
       "      <td>NaN</td>\n",
       "      <td>NaN</td>\n",
       "      <td>NaN</td>\n",
       "      <td>1.562260e+18</td>\n",
       "      <td>{'username': 'dinagustavsson', 'id': 1530790391049441280, 'displayname': 'Dina NataliaLee', 'des...</td>\n",
       "      <td>[{'username': 'dinagustavsson', 'id': 1530790391049441280, 'displayname': 'Dina NataliaLee', 'de...</td>\n",
       "      <td>NaN</td>\n",
       "      <td>NaN</td>\n",
       "      <td>NaN</td>\n",
       "      <td>NaN</td>\n",
       "    </tr>\n",
       "    <tr>\n",
       "      <th>2</th>\n",
       "      <td>2</td>\n",
       "      <td>https://twitter.com/garuda080/status/1562243666017923072</td>\n",
       "      <td>2022-08-24</td>\n",
       "      <td>Ayo sukseskan vaksinasi Covid-19 dengan melakukan vaksin dosis lengkap agar terhindar dari penul...</td>\n",
       "      <td>Ayo sukseskan vaksinasi Covid-19 dengan melakukan vaksin dosis lengkap agar terhindar dari penul...</td>\n",
       "      <td>1562243666017923072</td>\n",
       "      <td>{'username': 'garuda080', 'id': 128641833, 'displayname': 'Tukangkuli', 'description': 'hanya or...</td>\n",
       "      <td>3</td>\n",
       "      <td>13</td>\n",
       "      <td>15</td>\n",
       "      <td>...</td>\n",
       "      <td>[{'previewUrl': 'https://pbs.twimg.com/media/Fa40VLXacAAssWA?format=jpg&amp;name=small', 'fullUrl': ...</td>\n",
       "      <td>NaN</td>\n",
       "      <td>NaN</td>\n",
       "      <td>NaN</td>\n",
       "      <td>NaN</td>\n",
       "      <td>NaN</td>\n",
       "      <td>NaN</td>\n",
       "      <td>NaN</td>\n",
       "      <td>['TetapProkesLengkapiVaksin', 'IndonesiaSemakinHebat']</td>\n",
       "      <td>NaN</td>\n",
       "    </tr>\n",
       "    <tr>\n",
       "      <th>3</th>\n",
       "      <td>3</td>\n",
       "      <td>https://twitter.com/galerifitri/status/1562243395837644801</td>\n",
       "      <td>2022-08-24</td>\n",
       "      <td>Agar terhindar dr varian baru omicron BA.4 &amp;amp; BA.5, masyarakat dihimbau melakukan vaksinasi c...</td>\n",
       "      <td>Agar terhindar dr varian baru omicron BA.4 &amp;amp; BA.5, masyarakat dihimbau melakukan vaksinasi c...</td>\n",
       "      <td>1562243395837644801</td>\n",
       "      <td>{'username': 'galerifitri', 'id': 577026915, 'displayname': '👑', 'description': 'taishin-miyamot...</td>\n",
       "      <td>4</td>\n",
       "      <td>11</td>\n",
       "      <td>12</td>\n",
       "      <td>...</td>\n",
       "      <td>[{'previewUrl': 'https://pbs.twimg.com/media/Fa40EoNaIAEsBjl?format=jpg&amp;name=small', 'fullUrl': ...</td>\n",
       "      <td>NaN</td>\n",
       "      <td>NaN</td>\n",
       "      <td>NaN</td>\n",
       "      <td>NaN</td>\n",
       "      <td>NaN</td>\n",
       "      <td>NaN</td>\n",
       "      <td>NaN</td>\n",
       "      <td>['TetapProkesLengkapiVaksin', 'IndonesiaSemakinHebat']</td>\n",
       "      <td>NaN</td>\n",
       "    </tr>\n",
       "    <tr>\n",
       "      <th>4</th>\n",
       "      <td>4</td>\n",
       "      <td>https://twitter.com/erny_siswati/status/1562227603741614080</td>\n",
       "      <td>2022-08-23</td>\n",
       "      <td>Ambil baik nya, pas kenapa omicron, pertama bisa buat account tik tok haha Dan tik tok an.. than...</td>\n",
       "      <td>Ambil baik nya, pas kenapa omicron, pertama bisa buat account tik tok haha Dan tik tok an.. than...</td>\n",
       "      <td>1562227603741614080</td>\n",
       "      <td>{'username': 'erny_siswati', 'id': 608912929, 'displayname': 'Erny 🍄🍀', 'description': 'All hv a...</td>\n",
       "      <td>1</td>\n",
       "      <td>0</td>\n",
       "      <td>0</td>\n",
       "      <td>...</td>\n",
       "      <td>NaN</td>\n",
       "      <td>NaN</td>\n",
       "      <td>NaN</td>\n",
       "      <td>NaN</td>\n",
       "      <td>NaN</td>\n",
       "      <td>NaN</td>\n",
       "      <td>NaN</td>\n",
       "      <td>NaN</td>\n",
       "      <td>['gaptekdotcom']</td>\n",
       "      <td>NaN</td>\n",
       "    </tr>\n",
       "    <tr>\n",
       "      <th>5</th>\n",
       "      <td>5</td>\n",
       "      <td>https://twitter.com/artsynay/status/1562120409406791681</td>\n",
       "      <td>2022-08-23</td>\n",
       "      <td>Covid series yg omicron udah lenyap kan ya? Masa ini rasanya kayak omicron gejalanya, sakit nyer...</td>\n",
       "      <td>Covid series yg omicron udah lenyap kan ya? Masa ini rasanya kayak omicron gejalanya, sakit nyer...</td>\n",
       "      <td>1562120409406791681</td>\n",
       "      <td>{'username': 'artsynay', 'id': 902050829934452737, 'displayname': 'Nay 🌝 Commissions open', 'des...</td>\n",
       "      <td>0</td>\n",
       "      <td>0</td>\n",
       "      <td>0</td>\n",
       "      <td>...</td>\n",
       "      <td>NaN</td>\n",
       "      <td>NaN</td>\n",
       "      <td>NaN</td>\n",
       "      <td>NaN</td>\n",
       "      <td>NaN</td>\n",
       "      <td>NaN</td>\n",
       "      <td>NaN</td>\n",
       "      <td>NaN</td>\n",
       "      <td>NaN</td>\n",
       "      <td>NaN</td>\n",
       "    </tr>\n",
       "    <tr>\n",
       "      <th>6</th>\n",
       "      <td>6</td>\n",
       "      <td>https://twitter.com/_theguzel/status/1562117285875449857</td>\n",
       "      <td>2022-08-23</td>\n",
       "      <td>@sitajir89 Di india udh ada lagi cacar tomat .. kmarin di eropa lagi rame cacar monyet dsini msh...</td>\n",
       "      <td>@sitajir89 Di india udh ada lagi cacar tomat .. kmarin di eropa lagi rame cacar monyet dsini msh...</td>\n",
       "      <td>1562117285875449857</td>\n",
       "      <td>{'username': '_theguzel', 'id': 1417079987614588931, 'displayname': 'ค๓คrē ງนຊēl', 'description'...</td>\n",
       "      <td>1</td>\n",
       "      <td>0</td>\n",
       "      <td>1</td>\n",
       "      <td>...</td>\n",
       "      <td>NaN</td>\n",
       "      <td>NaN</td>\n",
       "      <td>NaN</td>\n",
       "      <td>1.562094e+18</td>\n",
       "      <td>{'username': 'sitajir89', 'id': 874556526492499968, 'displayname': 'si Ahli Muda', 'description'...</td>\n",
       "      <td>[{'username': 'sitajir89', 'id': 874556526492499968, 'displayname': 'si Ahli Muda', 'description...</td>\n",
       "      <td>NaN</td>\n",
       "      <td>NaN</td>\n",
       "      <td>NaN</td>\n",
       "      <td>NaN</td>\n",
       "    </tr>\n",
       "    <tr>\n",
       "      <th>7</th>\n",
       "      <td>7</td>\n",
       "      <td>https://twitter.com/unsaintedperson/status/1562083858514051074</td>\n",
       "      <td>2022-08-23</td>\n",
       "      <td>@collegemenfess Gue tinggal sendiri pernah, kena covid omicron gada yg tau, keluarga juga gatau,...</td>\n",
       "      <td>@collegemenfess Gue tinggal sendiri pernah, kena covid omicron gada yg tau, keluarga juga gatau,...</td>\n",
       "      <td>1562083858514051074</td>\n",
       "      <td>{'username': 'unsaintedperson', 'id': 90870447, 'displayname': 'NOTYOURKIND', 'description': 'Bu...</td>\n",
       "      <td>1</td>\n",
       "      <td>0</td>\n",
       "      <td>2</td>\n",
       "      <td>...</td>\n",
       "      <td>NaN</td>\n",
       "      <td>NaN</td>\n",
       "      <td>NaN</td>\n",
       "      <td>1.561882e+18</td>\n",
       "      <td>{'username': 'collegemenfess', 'id': 1046084008742801408, 'displayname': 'COLLE | CEK PINNED TWE...</td>\n",
       "      <td>[{'username': 'collegemenfess', 'id': 1046084008742801408, 'displayname': 'COLLE | CEK PINNED TW...</td>\n",
       "      <td>NaN</td>\n",
       "      <td>NaN</td>\n",
       "      <td>NaN</td>\n",
       "      <td>NaN</td>\n",
       "    </tr>\n",
       "    <tr>\n",
       "      <th>8</th>\n",
       "      <td>8</td>\n",
       "      <td>https://twitter.com/muthiasurya/status/1561965416099876864</td>\n",
       "      <td>2022-08-23</td>\n",
       "      <td>Radang tenggorokan si omicron ini ga enak banget 🥹</td>\n",
       "      <td>Radang tenggorokan si omicron ini ga enak banget 🥹</td>\n",
       "      <td>1561965416099876864</td>\n",
       "      <td>{'username': 'muthiasurya', 'id': 43355589, 'displayname': 'Muthia Surya', 'description': 'witty...</td>\n",
       "      <td>1</td>\n",
       "      <td>0</td>\n",
       "      <td>0</td>\n",
       "      <td>...</td>\n",
       "      <td>NaN</td>\n",
       "      <td>NaN</td>\n",
       "      <td>NaN</td>\n",
       "      <td>NaN</td>\n",
       "      <td>NaN</td>\n",
       "      <td>NaN</td>\n",
       "      <td>NaN</td>\n",
       "      <td>NaN</td>\n",
       "      <td>NaN</td>\n",
       "      <td>NaN</td>\n",
       "    </tr>\n",
       "    <tr>\n",
       "      <th>9</th>\n",
       "      <td>9</td>\n",
       "      <td>https://twitter.com/bitxt/status/1561945365410357248</td>\n",
       "      <td>2022-08-23</td>\n",
       "      <td>@tibudiyanto sama nih gw jg minggu kemaren gitu positif, kayaknya omicron</td>\n",
       "      <td>@tibudiyanto sama nih gw jg minggu kemaren gitu positif, kayaknya omicron</td>\n",
       "      <td>1561945365410357248</td>\n",
       "      <td>{'username': 'bitxt', 'id': 786517290858614784, 'displayname': 'bitxt.eth', 'description': '@duk...</td>\n",
       "      <td>1</td>\n",
       "      <td>0</td>\n",
       "      <td>0</td>\n",
       "      <td>...</td>\n",
       "      <td>NaN</td>\n",
       "      <td>NaN</td>\n",
       "      <td>NaN</td>\n",
       "      <td>1.561945e+18</td>\n",
       "      <td>{'username': 'tibudiyanto', 'id': 866758911583338496, 'displayname': 'theo', 'description': None...</td>\n",
       "      <td>[{'username': 'tibudiyanto', 'id': 866758911583338496, 'displayname': 'theo', 'description': Non...</td>\n",
       "      <td>NaN</td>\n",
       "      <td>NaN</td>\n",
       "      <td>NaN</td>\n",
       "      <td>NaN</td>\n",
       "    </tr>\n",
       "  </tbody>\n",
       "</table>\n",
       "<p>10 rows × 28 columns</p>\n",
       "</div>"
      ],
      "text/plain": [
       "   Unnamed: 0                                                             url  \\\n",
       "0           0     https://twitter.com/noturfavgerl/status/1562274507465039873   \n",
       "1           1  https://twitter.com/SandalJ33651908/status/1562261673603239936   \n",
       "2           2        https://twitter.com/garuda080/status/1562243666017923072   \n",
       "3           3      https://twitter.com/galerifitri/status/1562243395837644801   \n",
       "4           4     https://twitter.com/erny_siswati/status/1562227603741614080   \n",
       "5           5         https://twitter.com/artsynay/status/1562120409406791681   \n",
       "6           6        https://twitter.com/_theguzel/status/1562117285875449857   \n",
       "7           7  https://twitter.com/unsaintedperson/status/1562083858514051074   \n",
       "8           8      https://twitter.com/muthiasurya/status/1561965416099876864   \n",
       "9           9            https://twitter.com/bitxt/status/1561945365410357248   \n",
       "\n",
       "         date  \\\n",
       "0  2022-08-24   \n",
       "1  2022-08-24   \n",
       "2  2022-08-24   \n",
       "3  2022-08-24   \n",
       "4  2022-08-23   \n",
       "5  2022-08-23   \n",
       "6  2022-08-23   \n",
       "7  2022-08-23   \n",
       "8  2022-08-23   \n",
       "9  2022-08-23   \n",
       "\n",
       "                                                                                               content  \\\n",
       "0                                                                            Semoga g omicron ya Tuhan   \n",
       "1  @dinagustavsson Ada delta,omicron ,cacar munyuk,sampe HIV....\\nSEMUANYA AKIBAT VAX C19...\\nBERUN...   \n",
       "2  Ayo sukseskan vaksinasi Covid-19 dengan melakukan vaksin dosis lengkap agar terhindar dari penul...   \n",
       "3  Agar terhindar dr varian baru omicron BA.4 &amp; BA.5, masyarakat dihimbau melakukan vaksinasi c...   \n",
       "4  Ambil baik nya, pas kenapa omicron, pertama bisa buat account tik tok haha Dan tik tok an.. than...   \n",
       "5  Covid series yg omicron udah lenyap kan ya? Masa ini rasanya kayak omicron gejalanya, sakit nyer...   \n",
       "6  @sitajir89 Di india udh ada lagi cacar tomat .. kmarin di eropa lagi rame cacar monyet dsini msh...   \n",
       "7  @collegemenfess Gue tinggal sendiri pernah, kena covid omicron gada yg tau, keluarga juga gatau,...   \n",
       "8                                                   Radang tenggorokan si omicron ini ga enak banget 🥹   \n",
       "9                            @tibudiyanto sama nih gw jg minggu kemaren gitu positif, kayaknya omicron   \n",
       "\n",
       "                                                                                       renderedContent  \\\n",
       "0                                                                            Semoga g omicron ya Tuhan   \n",
       "1  @dinagustavsson Ada delta,omicron ,cacar munyuk,sampe HIV....\\nSEMUANYA AKIBAT VAX C19...\\nBERUN...   \n",
       "2  Ayo sukseskan vaksinasi Covid-19 dengan melakukan vaksin dosis lengkap agar terhindar dari penul...   \n",
       "3  Agar terhindar dr varian baru omicron BA.4 &amp; BA.5, masyarakat dihimbau melakukan vaksinasi c...   \n",
       "4  Ambil baik nya, pas kenapa omicron, pertama bisa buat account tik tok haha Dan tik tok an.. than...   \n",
       "5  Covid series yg omicron udah lenyap kan ya? Masa ini rasanya kayak omicron gejalanya, sakit nyer...   \n",
       "6  @sitajir89 Di india udh ada lagi cacar tomat .. kmarin di eropa lagi rame cacar monyet dsini msh...   \n",
       "7  @collegemenfess Gue tinggal sendiri pernah, kena covid omicron gada yg tau, keluarga juga gatau,...   \n",
       "8                                                   Radang tenggorokan si omicron ini ga enak banget 🥹   \n",
       "9                            @tibudiyanto sama nih gw jg minggu kemaren gitu positif, kayaknya omicron   \n",
       "\n",
       "                    id  \\\n",
       "0  1562274507465039873   \n",
       "1  1562261673603239936   \n",
       "2  1562243666017923072   \n",
       "3  1562243395837644801   \n",
       "4  1562227603741614080   \n",
       "5  1562120409406791681   \n",
       "6  1562117285875449857   \n",
       "7  1562083858514051074   \n",
       "8  1561965416099876864   \n",
       "9  1561945365410357248   \n",
       "\n",
       "                                                                                                  user  \\\n",
       "0  {'username': 'noturfavgerl', 'id': 720864294426902528, 'displayname': \"zoro's wife\", 'descriptio...   \n",
       "1  {'username': 'SandalJ33651908', 'id': 1376897043075981315, 'displayname': 'PAK DHE', 'descriptio...   \n",
       "2  {'username': 'garuda080', 'id': 128641833, 'displayname': 'Tukangkuli', 'description': 'hanya or...   \n",
       "3  {'username': 'galerifitri', 'id': 577026915, 'displayname': '👑', 'description': 'taishin-miyamot...   \n",
       "4  {'username': 'erny_siswati', 'id': 608912929, 'displayname': 'Erny 🍄🍀', 'description': 'All hv a...   \n",
       "5  {'username': 'artsynay', 'id': 902050829934452737, 'displayname': 'Nay 🌝 Commissions open', 'des...   \n",
       "6  {'username': '_theguzel', 'id': 1417079987614588931, 'displayname': 'ค๓คrē ງนຊēl', 'description'...   \n",
       "7  {'username': 'unsaintedperson', 'id': 90870447, 'displayname': 'NOTYOURKIND', 'description': 'Bu...   \n",
       "8  {'username': 'muthiasurya', 'id': 43355589, 'displayname': 'Muthia Surya', 'description': 'witty...   \n",
       "9  {'username': 'bitxt', 'id': 786517290858614784, 'displayname': 'bitxt.eth', 'description': '@duk...   \n",
       "\n",
       "   replyCount  retweetCount  likeCount  ...  \\\n",
       "0           0             0          0  ...   \n",
       "1           0             0          1  ...   \n",
       "2           3            13         15  ...   \n",
       "3           4            11         12  ...   \n",
       "4           1             0          0  ...   \n",
       "5           0             0          0  ...   \n",
       "6           1             0          1  ...   \n",
       "7           1             0          2  ...   \n",
       "8           1             0          0  ...   \n",
       "9           1             0          0  ...   \n",
       "\n",
       "                                                                                                 media  \\\n",
       "0                                                                                                  NaN   \n",
       "1                                                                                                  NaN   \n",
       "2  [{'previewUrl': 'https://pbs.twimg.com/media/Fa40VLXacAAssWA?format=jpg&name=small', 'fullUrl': ...   \n",
       "3  [{'previewUrl': 'https://pbs.twimg.com/media/Fa40EoNaIAEsBjl?format=jpg&name=small', 'fullUrl': ...   \n",
       "4                                                                                                  NaN   \n",
       "5                                                                                                  NaN   \n",
       "6                                                                                                  NaN   \n",
       "7                                                                                                  NaN   \n",
       "8                                                                                                  NaN   \n",
       "9                                                                                                  NaN   \n",
       "\n",
       "   retweetedTweet quotedTweet inReplyToTweetId  \\\n",
       "0             NaN         NaN              NaN   \n",
       "1             NaN         NaN     1.562260e+18   \n",
       "2             NaN         NaN              NaN   \n",
       "3             NaN         NaN              NaN   \n",
       "4             NaN         NaN              NaN   \n",
       "5             NaN         NaN              NaN   \n",
       "6             NaN         NaN     1.562094e+18   \n",
       "7             NaN         NaN     1.561882e+18   \n",
       "8             NaN         NaN              NaN   \n",
       "9             NaN         NaN     1.561945e+18   \n",
       "\n",
       "                                                                                         inReplyToUser  \\\n",
       "0                                                                                                  NaN   \n",
       "1  {'username': 'dinagustavsson', 'id': 1530790391049441280, 'displayname': 'Dina NataliaLee', 'des...   \n",
       "2                                                                                                  NaN   \n",
       "3                                                                                                  NaN   \n",
       "4                                                                                                  NaN   \n",
       "5                                                                                                  NaN   \n",
       "6  {'username': 'sitajir89', 'id': 874556526492499968, 'displayname': 'si Ahli Muda', 'description'...   \n",
       "7  {'username': 'collegemenfess', 'id': 1046084008742801408, 'displayname': 'COLLE | CEK PINNED TWE...   \n",
       "8                                                                                                  NaN   \n",
       "9  {'username': 'tibudiyanto', 'id': 866758911583338496, 'displayname': 'theo', 'description': None...   \n",
       "\n",
       "                                                                                        mentionedUsers  \\\n",
       "0                                                                                                  NaN   \n",
       "1  [{'username': 'dinagustavsson', 'id': 1530790391049441280, 'displayname': 'Dina NataliaLee', 'de...   \n",
       "2                                                                                                  NaN   \n",
       "3                                                                                                  NaN   \n",
       "4                                                                                                  NaN   \n",
       "5                                                                                                  NaN   \n",
       "6  [{'username': 'sitajir89', 'id': 874556526492499968, 'displayname': 'si Ahli Muda', 'description...   \n",
       "7  [{'username': 'collegemenfess', 'id': 1046084008742801408, 'displayname': 'COLLE | CEK PINNED TW...   \n",
       "8                                                                                                  NaN   \n",
       "9  [{'username': 'tibudiyanto', 'id': 866758911583338496, 'displayname': 'theo', 'description': Non...   \n",
       "\n",
       "  coordinates place                                                hashtags  \\\n",
       "0         NaN   NaN                                                     NaN   \n",
       "1         NaN   NaN                                                     NaN   \n",
       "2         NaN   NaN  ['TetapProkesLengkapiVaksin', 'IndonesiaSemakinHebat']   \n",
       "3         NaN   NaN  ['TetapProkesLengkapiVaksin', 'IndonesiaSemakinHebat']   \n",
       "4         NaN   NaN                                        ['gaptekdotcom']   \n",
       "5         NaN   NaN                                                     NaN   \n",
       "6         NaN   NaN                                                     NaN   \n",
       "7         NaN   NaN                                                     NaN   \n",
       "8         NaN   NaN                                                     NaN   \n",
       "9         NaN   NaN                                                     NaN   \n",
       "\n",
       "   cashtags  \n",
       "0       NaN  \n",
       "1       NaN  \n",
       "2       NaN  \n",
       "3       NaN  \n",
       "4       NaN  \n",
       "5       NaN  \n",
       "6       NaN  \n",
       "7       NaN  \n",
       "8       NaN  \n",
       "9       NaN  \n",
       "\n",
       "[10 rows x 28 columns]"
      ]
     },
     "execution_count": 93,
     "metadata": {},
     "output_type": "execute_result"
    }
   ],
   "source": [
    "df.head(10)"
   ]
  },
  {
   "cell_type": "code",
   "execution_count": 94,
   "metadata": {},
   "outputs": [
    {
     "data": {
      "text/plain": [
       "21054"
      ]
     },
     "execution_count": 94,
     "metadata": {},
     "output_type": "execute_result"
    }
   ],
   "source": [
    "len(df)"
   ]
  },
  {
   "cell_type": "markdown",
   "metadata": {},
   "source": [
    "Removing Duplicate if any"
   ]
  },
  {
   "cell_type": "code",
   "execution_count": 95,
   "metadata": {},
   "outputs": [],
   "source": [
    "df = df.drop_duplicates()\n",
    "df = df.reset_index(drop=True)"
   ]
  },
  {
   "cell_type": "code",
   "execution_count": 96,
   "metadata": {},
   "outputs": [
    {
     "data": {
      "text/plain": [
       "21054"
      ]
     },
     "execution_count": 96,
     "metadata": {},
     "output_type": "execute_result"
    }
   ],
   "source": [
    "len(df)"
   ]
  },
  {
   "cell_type": "markdown",
   "metadata": {},
   "source": [
    "# Extra Cleaning"
   ]
  },
  {
   "cell_type": "code",
   "execution_count": 101,
   "metadata": {},
   "outputs": [
    {
     "data": {
      "text/plain": [
       "0"
      ]
     },
     "execution_count": 101,
     "metadata": {},
     "output_type": "execute_result"
    }
   ],
   "source": [
    "len(df[df['content'].isnull()==True])"
   ]
  },
  {
   "cell_type": "code",
   "execution_count": 102,
   "metadata": {},
   "outputs": [
    {
     "data": {
      "text/plain": [
       "Series([], Name: content, dtype: object)"
      ]
     },
     "execution_count": 102,
     "metadata": {},
     "output_type": "execute_result"
    }
   ],
   "source": [
    "pd.set_option('display.max_colwidth', None)\n",
    "df[df['content'].isnull()==True]['content']"
   ]
  },
  {
   "cell_type": "markdown",
   "metadata": {},
   "source": [
    "Removing Observation that the text become empty after cleaning, indicating that the text doesn't have significance sentiment"
   ]
  },
  {
   "cell_type": "code",
   "execution_count": 103,
   "metadata": {},
   "outputs": [],
   "source": [
    "df = df.dropna(subset=['content'])\n",
    "df = df.reset_index(drop=True)"
   ]
  },
  {
   "cell_type": "code",
   "execution_count": 104,
   "metadata": {},
   "outputs": [
    {
     "data": {
      "text/plain": [
       "Unnamed: 0              0\n",
       "url                     0\n",
       "date                    0\n",
       "content                 0\n",
       "renderedContent         0\n",
       "id                      0\n",
       "user                    0\n",
       "replyCount              0\n",
       "retweetCount            0\n",
       "likeCount               0\n",
       "quoteCount              0\n",
       "conversationId          0\n",
       "lang                    0\n",
       "source                  0\n",
       "sourceUrl               0\n",
       "sourceLabel             0\n",
       "outlinks            18949\n",
       "tcooutlinks         18949\n",
       "media               18414\n",
       "retweetedTweet      21054\n",
       "quotedTweet         19744\n",
       "inReplyToTweetId    11040\n",
       "inReplyToUser       11040\n",
       "mentionedUsers      12399\n",
       "coordinates         20458\n",
       "place               20458\n",
       "hashtags            19466\n",
       "cashtags            21052\n",
       "dtype: int64"
      ]
     },
     "execution_count": 104,
     "metadata": {},
     "output_type": "execute_result"
    }
   ],
   "source": [
    "df.isnull().sum()"
   ]
  },
  {
   "cell_type": "code",
   "execution_count": 107,
   "metadata": {},
   "outputs": [],
   "source": [
    "clean_text = df['content'].copy()"
   ]
  },
  {
   "cell_type": "code",
   "execution_count": 108,
   "metadata": {},
   "outputs": [
    {
     "data": {
      "text/plain": [
       "21039                              @rizkypranst Tai banget:(\\nBisa sampe kena omicron gini aja rasanya emosi\n",
       "21040                                       katanya omicron kok offline si masszeh 🧐 https://t.co/P1FnBDZnPz\n",
       "21041                                                      @je_llyy @shitlicious Yuk ngobrolin omicron kawin\n",
       "21042    @convomf Bilang aja nder gadiizinin keluar rumah sama orang tua soalnya sekarangkan omicron lagi...\n",
       "21043                                                     @icaadhis omicron, jadi ga boleh tos. jaga jarak ❌\n",
       "21044                       :(( habis denger kabarr temen, sesak banget katanya kalau udah kena omicron :(((\n",
       "21045    @convomf wajar kok, mana sekarang kan omicron juga lumayan jd ya gpp sih daripada nekat ntar mal...\n",
       "21046    Covid first wave lolos. Second wave lolos. Third wave positive. Padahal gak suka om om tp malah ...\n",
       "21047                   8-gejala-omicron-paling-umum-pada-orang-yang-sudah-divaksin\\nhttps://t.co/o6BKgUT0nF\n",
       "21048               @alfianpratamaaa Iya euy sekalian mudik haha, tarlah kalo si omicron udh kondusif disini\n",
       "21049                      Adekk cintak nggak selalu indah dek, omicron apalagi wkwk https://t.co/R5RknME5Xj\n",
       "21050    hari ini menyenangkan,\\npagi - sore: istirahat &amp; \"nyepi\" di rumah\\nsore - maghrib: main skat...\n",
       "21051                                 @pacarbighit dirumahh, yang nobar hati2 omicron lg tinggi banget &lt;3\n",
       "21052                                                                    @helloverrrr W lg kena omicron haha\n",
       "21053                                                          @tubbirfess Ini gw lagi omicron anjg bgsttttt\n",
       "Name: content, dtype: object"
      ]
     },
     "execution_count": 108,
     "metadata": {},
     "output_type": "execute_result"
    }
   ],
   "source": [
    "pd.set_option('display.max_colwidth', 100)\n",
    "clean_text.tail(15)"
   ]
  },
  {
   "cell_type": "code",
   "execution_count": 109,
   "metadata": {},
   "outputs": [],
   "source": [
    "def repair_exaggeration(x):\n",
    "    word_tokens = word_tokenize(x)\n",
    "    new_x =''\n",
    "    for i in word_tokens:\n",
    "        if (i =='psbb'):\n",
    "            new = re.sub(r'(\\w)\\1\\1+',r'\\1\\1',i)\n",
    "            new_x = new_x +new+' '\n",
    "        elif(i =='psb'):\n",
    "            new = 'psbb'\n",
    "            new_x = new_x +new+' '\n",
    "        else:\n",
    "            new = re.sub(r'(\\w)\\1\\1\\1+',r'\\1',i)\n",
    "            new_x = new_x +new+' '\n",
    "    return new_x\n",
    "\n",
    "def del_word(x,key_list):\n",
    "    n = len(key_list)\n",
    "    word_tokens = word_tokenize(x)\n",
    "    new_x =''\n",
    "    for word in word_tokens:\n",
    "        if word not in key_list:\n",
    "            new_x = new_x+word+' '\n",
    "    return new_x\n",
    "\n",
    "def clean_tweets(tweet):\n",
    "   # nltk.download('stopwords')\n",
    "    my_file = open(\"cleaning_source/combined_stop_words.txt\", \"r\")\n",
    "    content = my_file.read()\n",
    "    stop_words = content.split(\"\\n\")\n",
    "    file_2  = open(\"cleaning_source/update_combined_slang_words.txt\", \"r\")\n",
    "    content2 = file_2.read()\n",
    "    slang_words = ast.literal_eval(content2)\n",
    "    my_file.close()\n",
    "    file_2.close()\n",
    "\n",
    "    tweet = tweet.lower()\n",
    "    #after tweepy preprocessing the colon left remain after removing mentions\n",
    "    #or RT sign in the beginning of the tweet\n",
    "    tweet = re.sub(r':', '', tweet)\n",
    "    tweet = re.sub(r'‚Ä¶', '', tweet)\n",
    "    #replace consecutive non-ASCII characters with a space\n",
    "    tweet = re.sub(r'[^\\x00-\\x7F]+',' ', tweet)\n",
    "\n",
    "    #remove emojis from tweet\n",
    "    #tweet = emoji_pattern.sub(r'', tweet)\n",
    "    \n",
    "    #remove punctuation manually\n",
    "    tweet = re.sub('[^a-zA-Z]', ' ', tweet)\n",
    "    \n",
    "    #remove tags\n",
    "    tweet=re.sub(\"&lt;/?.*?&gt;\",\"&lt;&gt;\",tweet)\n",
    "    \n",
    "    #remove digits and special chars\n",
    "    tweet=re.sub(\"(\\\\d|\\\\W)+\",\" \",tweet)\n",
    "\n",
    "    #remove other symbol from tweet\n",
    "    tweet = re.sub(r'â', '', tweet)\n",
    "    tweet = re.sub(r'€', '', tweet)\n",
    "    tweet = re.sub(r'¦', '', tweet)\n",
    "\n",
    "    word_tokens = word_tokenize(tweet)\n",
    "    for w in word_tokens:\n",
    "        if w in slang_words.keys():\n",
    "            word_tokens[word_tokens.index(w)] = slang_words[w]\n",
    "\n",
    "    #filter using NLTK library append it to a string\n",
    "    filtered_tweet = [w for w in word_tokens if not w in stop_words]\n",
    "    filtered_tweet = []\n",
    "\n",
    "    #looping through conditions\n",
    "    for w in word_tokens:\n",
    "        #check tokens against stop words , emoticons and punctuations\n",
    "        if w not in stop_words and w not in string.punctuation:\n",
    "            filtered_tweet.append(w.lower())\n",
    "    return ' '.join(filtered_tweet)\n",
    "\n",
    "def count_words(x):\n",
    "    words = word_tokenize(x)\n",
    "    n=len(words)\n",
    "    return n"
   ]
  },
  {
   "cell_type": "markdown",
   "metadata": {},
   "source": [
    "Cleaning text that exaggerate the typing such as 'psbbbbbbbbb' "
   ]
  },
  {
   "cell_type": "code",
   "execution_count": 110,
   "metadata": {},
   "outputs": [],
   "source": [
    "clean_text_exag = clean_text.apply(lambda x: repair_exaggeration(x))"
   ]
  },
  {
   "cell_type": "code",
   "execution_count": 111,
   "metadata": {},
   "outputs": [
    {
     "data": {
      "text/plain": [
       "21039                           @ rizkypranst Tai banget : ( Bisa sampe kena omicron gini aja rasanya emosi \n",
       "21040                                    katanya omicron kok offline si masszeh 🧐 https : //t.co/P1FnBDZnPz \n",
       "21041                                                   @ je_llyy @ shitlicious Yuk ngobrolin omicron kawin \n",
       "21042    @ convomf Bilang aja nder gadiizinin keluar rumah sama orang tua soalnya sekarangkan omicron lag...\n",
       "21043                                                 @ icaadhis omicron , jadi ga boleh tos . jaga jarak ❌ \n",
       "21044                : ( ( habis denger kabarr temen , sesak banget katanya kalau udah kena omicron : ( ( ( \n",
       "21045    @ convomf wajar kok , mana sekarang kan omicron juga lumayan jd ya gpp sih daripada nekat ntar m...\n",
       "21046    Covid first wave lolos . Second wave lolos . Third wave positive . Padahal gak suka om om tp mal...\n",
       "21047                 8-gejala-omicron-paling-umum-pada-orang-yang-sudah-divaksin https : //t.co/o6BKgUT0nF \n",
       "21048            @ alfianpratamaaa Iya euy sekalian mudik haha , tarlah kalo si omicron udh kondusif disini \n",
       "21049                  Adekk cintak nggak selalu indah dek , omicron apalagi wkwk https : //t.co/R5RknME5Xj \n",
       "21050    hari ini menyenangkan , pagi - sore : istirahat & amp ; `` nyepi '' di rumah sore - maghrib : ma...\n",
       "21051                           @ pacarbighit dirumahh , yang nobar hati2 omicron lg tinggi banget & lt ; 3 \n",
       "21052                                                                     @ hellover W lg kena omicron haha \n",
       "21053                                                            @ tubbirfess Ini gw lagi omicron anjg bgst \n",
       "Name: content, dtype: object"
      ]
     },
     "execution_count": 111,
     "metadata": {},
     "output_type": "execute_result"
    }
   ],
   "source": [
    "clean_text_exag.tail(15)"
   ]
  },
  {
   "cell_type": "markdown",
   "metadata": {},
   "source": [
    "Recleaning after remove exaggeration"
   ]
  },
  {
   "cell_type": "code",
   "execution_count": 112,
   "metadata": {},
   "outputs": [],
   "source": [
    "re_clean = clean_text_exag.apply(lambda x: clean_tweets(x))"
   ]
  },
  {
   "cell_type": "markdown",
   "metadata": {},
   "source": [
    "we use keywords for querying data, now we need to remove them as it will all found in every sentence in this data frame"
   ]
  },
  {
   "cell_type": "code",
   "execution_count": 113,
   "metadata": {},
   "outputs": [],
   "source": [
    "keyword = ['psbb','psb','corona','covid19','indonesia','pemerintah','wfh','covid']\n",
    "clean_text_extra = re_clean.apply(lambda x: del_word(x,keyword))"
   ]
  },
  {
   "cell_type": "code",
   "execution_count": 114,
   "metadata": {},
   "outputs": [
    {
     "data": {
      "text/plain": [
       "21039                                                        rizkypranst tai banget kena omicron gini emosi \n",
       "21040                                              katanya omicron offline si masszeh https t co p fnbdznpz \n",
       "21041                                                       je llyy shitlicious yuk ngobrolin omicron kawin \n",
       "21042    convomf bilang nder gadiizinin keluar rumah tua sekarangkan omicron lumayan naiknya alesannya ma...\n",
       "21043                                                                    icaadhis omicron ga tos jaga jarak \n",
       "21044                                           habis denger kabarr teman sesak banget katanya kena omicron \n",
       "21045                                        convomf wajar kan omicron lumayan tidak apa-apa sih nekat kena \n",
       "21046                first wave lolos second wave lolos third wave positive tidak suka om om nempel omicron \n",
       "21047                                                  gejala omicron paling divaksin https t co o bkgut nf \n",
       "21048                                   alfianpratamaaa euy mudik tertawa tarlah si omicron kondusif disini \n",
       "21049                                      adekk cintak tidak indah adik omicron wkwk https t co r rknme xj \n",
       "21050    menyenangkan pagi sore istirahat amp nyepi rumah sore maghrib main skate biasain kaki seminggu a...\n",
       "21051                                             pacarbighit dirumahh nonton bareng hati omicron banget lt \n",
       "21052                                                                       hellover w kena omicron tertawa \n",
       "21053                                                                          tubbirfess omicron anjg bgst \n",
       "Name: content, dtype: object"
      ]
     },
     "execution_count": 114,
     "metadata": {},
     "output_type": "execute_result"
    }
   ],
   "source": [
    "clean_text_extra.tail(15)"
   ]
  },
  {
   "cell_type": "code",
   "execution_count": 115,
   "metadata": {},
   "outputs": [],
   "source": [
    "df['clean_text'] = clean_text_extra"
   ]
  },
  {
   "cell_type": "code",
   "execution_count": 116,
   "metadata": {},
   "outputs": [],
   "source": [
    "df['word_length'] = df['clean_text'].apply(lambda x:count_words(x))"
   ]
  },
  {
   "cell_type": "code",
   "execution_count": 117,
   "metadata": {},
   "outputs": [
    {
     "data": {
      "text/plain": [
       "1       31\n",
       "2      326\n",
       "3      908\n",
       "4     1224\n",
       "5     1397\n",
       "6     1425\n",
       "7     1284\n",
       "8     1249\n",
       "9     1164\n",
       "10    1146\n",
       "11    1073\n",
       "12     960\n",
       "13     888\n",
       "14     728\n",
       "15     752\n",
       "16     657\n",
       "17     579\n",
       "18     511\n",
       "19     542\n",
       "20     424\n",
       "21     404\n",
       "22     412\n",
       "23     414\n",
       "24     382\n",
       "25     389\n",
       "26     291\n",
       "27     263\n",
       "28     224\n",
       "29     209\n",
       "30     208\n",
       "31     157\n",
       "32     109\n",
       "33      79\n",
       "34      54\n",
       "35      43\n",
       "36      34\n",
       "37      30\n",
       "38      19\n",
       "39      12\n",
       "40      12\n",
       "41      10\n",
       "42       6\n",
       "43       7\n",
       "44       3\n",
       "45       4\n",
       "46       2\n",
       "48       3\n",
       "49       3\n",
       "51       2\n",
       "55       1\n",
       "Name: word_length, dtype: int64"
      ]
     },
     "execution_count": 117,
     "metadata": {},
     "output_type": "execute_result"
    }
   ],
   "source": [
    "df['word_length'].value_counts().sort_index()"
   ]
  },
  {
   "cell_type": "code",
   "execution_count": 118,
   "metadata": {},
   "outputs": [],
   "source": [
    "df = df.drop(df[df['word_length']==0].index,axis=0)\n",
    "df = df.reset_index(drop=True)"
   ]
  },
  {
   "cell_type": "markdown",
   "metadata": {},
   "source": [
    "# Word Processing"
   ]
  },
  {
   "cell_type": "markdown",
   "metadata": {},
   "source": [
    "## Create word dictionary"
   ]
  },
  {
   "cell_type": "code",
   "execution_count": 119,
   "metadata": {},
   "outputs": [],
   "source": [
    "word_dict = {}\n",
    "for i in range(0,len(df['clean_text'])):\n",
    "    sentence = df['clean_text'][i]\n",
    "    word_token = word_tokenize(sentence)\n",
    "    for j in word_token:\n",
    "        if j not in word_dict:\n",
    "            word_dict[j] = 1\n",
    "        else:\n",
    "            word_dict[j] += 1"
   ]
  },
  {
   "cell_type": "code",
   "execution_count": 120,
   "metadata": {},
   "outputs": [
    {
     "data": {
      "text/plain": [
       "40333"
      ]
     },
     "execution_count": 120,
     "metadata": {},
     "output_type": "execute_result"
    }
   ],
   "source": [
    "len(word_dict)"
   ]
  },
  {
   "cell_type": "code",
   "execution_count": 121,
   "metadata": {},
   "outputs": [
    {
     "data": {
      "text/plain": [
       "33663"
      ]
     },
     "execution_count": 121,
     "metadata": {},
     "output_type": "execute_result"
    }
   ],
   "source": [
    "len({k:v for (k,v) in word_dict.items() if v < 4})"
   ]
  },
  {
   "cell_type": "markdown",
   "metadata": {},
   "source": [
    "## Import Lexicon data"
   ]
  },
  {
   "cell_type": "markdown",
   "metadata": {},
   "source": [
    "import lexicon, and remove negation words from lexicon, the lexicon is a combination from several sources below, that combined together, and include swear words which has the most negative score"
   ]
  },
  {
   "cell_type": "markdown",
   "metadata": {},
   "source": [
    "sources : <br>\n",
    "https://github.com/louisowen6/NLP_bahasa_resources <br>\n",
    "https://github.com/abhimantramb/elang/blob/master/word2vec/utils/swear-words.txt <br>\n",
    "https://github.com/fajri91/InSet <br>\n",
    "https://github.com/agusmakmun/SentiStrengthID/blob/master/id_dict/sentimentword.txt "
   ]
  },
  {
   "cell_type": "code",
   "execution_count": 122,
   "metadata": {},
   "outputs": [],
   "source": [
    "negasi = ['bukan','tidak','ga','gk']\n",
    "lexicon = pd.read_csv('lexicon/modified_full_lexicon.csv')\n",
    "lexicon = lexicon.drop(lexicon[(lexicon['word'] == 'bukan')\n",
    "                               |(lexicon['word'] == 'tidak')\n",
    "                               |(lexicon['word'] == 'ga')|(lexicon['word'] == 'gk') ].index,axis=0)\n",
    "lexicon = lexicon.reset_index(drop=True)"
   ]
  },
  {
   "cell_type": "code",
   "execution_count": 123,
   "metadata": {},
   "outputs": [
    {
     "data": {
      "text/plain": [
       "10248"
      ]
     },
     "execution_count": 123,
     "metadata": {},
     "output_type": "execute_result"
    }
   ],
   "source": [
    "len(lexicon)"
   ]
  },
  {
   "cell_type": "code",
   "execution_count": 124,
   "metadata": {},
   "outputs": [
    {
     "data": {
      "text/html": [
       "<div>\n",
       "<style scoped>\n",
       "    .dataframe tbody tr th:only-of-type {\n",
       "        vertical-align: middle;\n",
       "    }\n",
       "\n",
       "    .dataframe tbody tr th {\n",
       "        vertical-align: top;\n",
       "    }\n",
       "\n",
       "    .dataframe thead th {\n",
       "        text-align: right;\n",
       "    }\n",
       "</style>\n",
       "<table border=\"1\" class=\"dataframe\">\n",
       "  <thead>\n",
       "    <tr style=\"text-align: right;\">\n",
       "      <th></th>\n",
       "      <th>word</th>\n",
       "      <th>weight</th>\n",
       "      <th>number_of_words</th>\n",
       "    </tr>\n",
       "  </thead>\n",
       "  <tbody>\n",
       "    <tr>\n",
       "      <th>0</th>\n",
       "      <td>hai</td>\n",
       "      <td>3</td>\n",
       "      <td>1</td>\n",
       "    </tr>\n",
       "    <tr>\n",
       "      <th>1</th>\n",
       "      <td>merekam</td>\n",
       "      <td>2</td>\n",
       "      <td>1</td>\n",
       "    </tr>\n",
       "    <tr>\n",
       "      <th>2</th>\n",
       "      <td>ekstensif</td>\n",
       "      <td>3</td>\n",
       "      <td>1</td>\n",
       "    </tr>\n",
       "    <tr>\n",
       "      <th>3</th>\n",
       "      <td>paripurna</td>\n",
       "      <td>1</td>\n",
       "      <td>1</td>\n",
       "    </tr>\n",
       "    <tr>\n",
       "      <th>4</th>\n",
       "      <td>detail</td>\n",
       "      <td>2</td>\n",
       "      <td>1</td>\n",
       "    </tr>\n",
       "    <tr>\n",
       "      <th>5</th>\n",
       "      <td>pernik</td>\n",
       "      <td>3</td>\n",
       "      <td>1</td>\n",
       "    </tr>\n",
       "    <tr>\n",
       "      <th>6</th>\n",
       "      <td>belas</td>\n",
       "      <td>2</td>\n",
       "      <td>1</td>\n",
       "    </tr>\n",
       "    <tr>\n",
       "      <th>7</th>\n",
       "      <td>welas</td>\n",
       "      <td>4</td>\n",
       "      <td>1</td>\n",
       "    </tr>\n",
       "    <tr>\n",
       "      <th>8</th>\n",
       "      <td>kabung</td>\n",
       "      <td>1</td>\n",
       "      <td>1</td>\n",
       "    </tr>\n",
       "    <tr>\n",
       "      <th>9</th>\n",
       "      <td>rahayu</td>\n",
       "      <td>4</td>\n",
       "      <td>1</td>\n",
       "    </tr>\n",
       "  </tbody>\n",
       "</table>\n",
       "</div>"
      ],
      "text/plain": [
       "        word  weight  number_of_words\n",
       "0        hai       3                1\n",
       "1    merekam       2                1\n",
       "2  ekstensif       3                1\n",
       "3  paripurna       1                1\n",
       "4     detail       2                1\n",
       "5     pernik       3                1\n",
       "6      belas       2                1\n",
       "7      welas       4                1\n",
       "8     kabung       1                1\n",
       "9     rahayu       4                1"
      ]
     },
     "execution_count": 124,
     "metadata": {},
     "output_type": "execute_result"
    }
   ],
   "source": [
    "lexicon.head(10)"
   ]
  },
  {
   "cell_type": "code",
   "execution_count": 125,
   "metadata": {},
   "outputs": [],
   "source": [
    "lexicon_word = lexicon['word'].to_list()\n",
    "lexicon_num_words = lexicon['number_of_words']"
   ]
  },
  {
   "cell_type": "code",
   "execution_count": 126,
   "metadata": {},
   "outputs": [
    {
     "data": {
      "text/plain": [
       "10248"
      ]
     },
     "execution_count": 126,
     "metadata": {},
     "output_type": "execute_result"
    }
   ],
   "source": [
    "len(lexicon_word)"
   ]
  },
  {
   "cell_type": "markdown",
   "metadata": {},
   "source": [
    "Checking if there is words in dictionary that does not included in the lexicon"
   ]
  },
  {
   "cell_type": "code",
   "execution_count": 127,
   "metadata": {},
   "outputs": [
    {
     "data": {
      "text/plain": [
       "34549"
      ]
     },
     "execution_count": 127,
     "metadata": {},
     "output_type": "execute_result"
    }
   ],
   "source": [
    "ns_words = []\n",
    "factory = StemmerFactory()\n",
    "stemmer = factory.create_stemmer()\n",
    "for word in word_dict.keys():\n",
    "    if word not in lexicon_word:\n",
    "        kata_dasar = stemmer.stem(word)\n",
    "        if kata_dasar not in lexicon_word:\n",
    "            ns_words.append(word)\n",
    "len(ns_words)"
   ]
  },
  {
   "cell_type": "markdown",
   "metadata": {},
   "source": [
    "Let's take a look what kind of words they are, lets start with some words that have many occurences as this most likely not  a type case"
   ]
  },
  {
   "cell_type": "code",
   "execution_count": 128,
   "metadata": {},
   "outputs": [
    {
     "data": {
      "text/plain": [
       "4403"
      ]
     },
     "execution_count": 128,
     "metadata": {},
     "output_type": "execute_result"
    }
   ],
   "source": [
    "len({k:v for (k,v) in word_dict.items() if ((k in ns_words)&(v>3)) })"
   ]
  },
  {
   "cell_type": "code",
   "execution_count": 129,
   "metadata": {},
   "outputs": [],
   "source": [
    "ns_words_list = {k:v for (k,v) in word_dict.items() if ((k in ns_words)&(v>3))}"
   ]
  },
  {
   "cell_type": "markdown",
   "metadata": {},
   "source": [
    "It turns out that the words that is not included in lexicon, are the one that not have signifance sentiment"
   ]
  },
  {
   "cell_type": "code",
   "execution_count": 130,
   "metadata": {},
   "outputs": [
    {
     "name": "stdout",
     "output_type": "stream",
     "text": [
      "omicron 22449\n",
      "t 4976\n",
      "co 4786\n",
      "https 4773\n",
      "tidak 3309\n",
      "ga 2060\n",
      "delta 1673\n",
      "kasus 1475\n",
      "deh 1400\n",
      "vaksin 1377\n",
      "ba 1320\n",
      "virus 1275\n",
      "gejala 1229\n",
      "nya 1028\n",
      "sih 919\n",
      "booster 854\n",
      "kan 795\n",
      "prokes 713\n",
      "masker 644\n",
      "demam 611\n"
     ]
    }
   ],
   "source": [
    "sort_orders = sorted(ns_words_list.items(), key=lambda x: x[1], reverse=True)\n",
    "sort_orders=sort_orders[0:20]\n",
    "for i in sort_orders:\n",
    "    print(i[0], i[1])"
   ]
  },
  {
   "cell_type": "code",
   "execution_count": 131,
   "metadata": {},
   "outputs": [],
   "source": [
    "word_to_plot = df['clean_text'].copy()"
   ]
  },
  {
   "cell_type": "code",
   "execution_count": 132,
   "metadata": {},
   "outputs": [],
   "source": [
    "word_to_plot_1 = word_to_plot.apply(lambda x: del_word(x,negasi))"
   ]
  },
  {
   "cell_type": "markdown",
   "metadata": {},
   "source": [
    "creating word cloud to see what kind of words that appear often in the tweets related to the pandemic"
   ]
  },
  {
   "cell_type": "code",
   "execution_count": 133,
   "metadata": {},
   "outputs": [
    {
     "data": {
      "image/png": "[encoded data removed]",
      "text/plain": [
       "<Figure size 576x576 with 1 Axes>"
      ]
     },
     "metadata": {},
     "output_type": "display_data"
    }
   ],
   "source": [
    "wordcloud = WordCloud(width = 800, height = 800, background_color = 'black', max_words = 1000\n",
    "                      , min_font_size = 20).generate(str(word_to_plot_1))\n",
    "#plot the word cloud\n",
    "fig = plt.figure(figsize = (8,8), facecolor = None)\n",
    "plt.imshow(wordcloud)\n",
    "plt.axis('off')\n",
    "plt.show()"
   ]
  },
  {
   "cell_type": "markdown",
   "metadata": {},
   "source": [
    "## sentiment"
   ]
  },
  {
   "cell_type": "code",
   "execution_count": 134,
   "metadata": {},
   "outputs": [
    {
     "data": {
      "text/plain": [
       "1    9536\n",
       "2     686\n",
       "3      24\n",
       "4       2\n",
       "Name: number_of_words, dtype: int64"
      ]
     },
     "execution_count": 134,
     "metadata": {},
     "output_type": "execute_result"
    }
   ],
   "source": [
    "lexicon['number_of_words'].value_counts()"
   ]
  },
  {
   "cell_type": "markdown",
   "metadata": {},
   "source": [
    "calculating the sentiment of words by mathing them to the lexicon while also creating the bag of words matrix"
   ]
  },
  {
   "cell_type": "code",
   "execution_count": 137,
   "metadata": {},
   "outputs": [],
   "source": [
    "sencol =[]\n",
    "senrow =np.array([])\n",
    "nsen = 0\n",
    "factory = StemmerFactory()\n",
    "stemmer = factory.create_stemmer()\n",
    "sentiment_list = []\n",
    "# function to write the word's sentiment if it is founded\n",
    "def found_word(ind,words,word,sen,sencol,sentiment,add):\n",
    "    # if it is already included in the bag of words matrix, then just increase the value\n",
    "    if word in sencol:\n",
    "        sen[sencol.index(word)] += 1\n",
    "    else:\n",
    "    #if not, than add new word\n",
    "        sencol.append(word)\n",
    "        sen.append(1)\n",
    "        add += 1\n",
    "    #if there is a negation word before it, the sentiment would be the negation of it's sentiment\n",
    "    if (words[ind-1] in negasi):\n",
    "        sentiment += -lexicon['weight'][lexicon_word.index(word)]\n",
    "    else:\n",
    "        sentiment += lexicon['weight'][lexicon_word.index(word)]\n",
    "    \n",
    "    return sen,sencol,sentiment,add\n",
    "            \n",
    "# checking every words, if they are appear in the lexicon, and then calculate their sentiment if they do\n",
    "for i in range(len(df)):\n",
    "    nsen = senrow.shape[0]\n",
    "    words = word_tokenize(df['clean_text'][i])\n",
    "    sentiment = 0 \n",
    "    add = 0\n",
    "    prev = [0 for ii in range(len(words))]\n",
    "    n_words = len(words)\n",
    "    if len(sencol)>0:\n",
    "        sen =[0 for j in range(len(sencol))]\n",
    "    else:\n",
    "        sen =[]\n",
    "    \n",
    "    for word in words:\n",
    "        ind = words.index(word)\n",
    "        # check whether they are included in the lexicon\n",
    "        if word in lexicon_word :\n",
    "            sen,sencol,sentiment,add= found_word(ind,words,word,sen,sencol,sentiment,add)\n",
    "        else:\n",
    "        # if not, then check the root word\n",
    "            kata_dasar = stemmer.stem(word)\n",
    "            if kata_dasar in lexicon_word:\n",
    "                sen,sencol,sentiment,add= found_word(ind,words,kata_dasar,sen,sencol,sentiment,add)\n",
    "        # if still negative, try to match the combination of words with the adjacent words\n",
    "            elif(n_words>1):\n",
    "                if ind-1>-1:\n",
    "                    back_1    = words[ind-1]+' '+word\n",
    "                    if (back_1 in lexicon_word):\n",
    "                        sen,sencol,sentiment,add= found_word(ind,words,back_1,sen,sencol,sentiment,add)\n",
    "                    elif(ind-2>-1):\n",
    "                        back_2    = words[ind-2]+' '+back_1\n",
    "                        if back_2 in lexicon_word:\n",
    "                            sen,sencol,sentiment,add= found_word(ind,words,back_2,sen,sencol,sentiment,add)\n",
    "    # if there is new word founded, then expand the matrix\n",
    "    if add>0:  \n",
    "        if i>0:\n",
    "            if (nsen==0):\n",
    "                senrow = np.zeros([i,add],dtype=int)\n",
    "            elif(i!=nsen):\n",
    "                padding_h = np.zeros([nsen,add],dtype=int)\n",
    "                senrow = np.hstack((senrow,padding_h))\n",
    "                padding_v = np.zeros([(i-nsen),senrow.shape[1]],dtype=int)\n",
    "                senrow = np.vstack((senrow,padding_v))\n",
    "            else:\n",
    "                padding =np.zeros([nsen,add],dtype=int)\n",
    "                senrow = np.hstack((senrow,padding))\n",
    "            senrow = np.vstack((senrow,sen))\n",
    "        if i==0:\n",
    "            senrow = np.array(sen).reshape(1,len(sen))\n",
    "    # if there isn't then just update the old matrix\n",
    "    elif(nsen>0):\n",
    "        senrow = np.vstack((senrow,sen))\n",
    "        \n",
    "    sentiment_list.append(sentiment)"
   ]
  },
  {
   "cell_type": "code",
   "execution_count": 138,
   "metadata": {},
   "outputs": [
    {
     "data": {
      "text/plain": [
       "21054"
      ]
     },
     "execution_count": 138,
     "metadata": {},
     "output_type": "execute_result"
    }
   ],
   "source": [
    "len(sentiment_list)"
   ]
  },
  {
   "cell_type": "code",
   "execution_count": 139,
   "metadata": {},
   "outputs": [
    {
     "name": "stdout",
     "output_type": "stream",
     "text": [
      "21054\n"
     ]
    }
   ],
   "source": [
    "print(senrow.shape[0])"
   ]
  },
  {
   "cell_type": "markdown",
   "metadata": {},
   "source": [
    "constructing the data frame that contain bag of words and the sentiments that have been calculated before"
   ]
  },
  {
   "cell_type": "code",
   "execution_count": 140,
   "metadata": {},
   "outputs": [],
   "source": [
    "sencol.append('sentiment')\n",
    "sentiment_array = np.array(sentiment_list).reshape(senrow.shape[0],1)\n",
    "sentiment_data = np.hstack((senrow,sentiment_array))\n",
    "df_sen = pd.DataFrame(sentiment_data,columns = sencol)"
   ]
  },
  {
   "cell_type": "code",
   "execution_count": 141,
   "metadata": {},
   "outputs": [
    {
     "data": {
      "text/html": [
       "<div>\n",
       "<style scoped>\n",
       "    .dataframe tbody tr th:only-of-type {\n",
       "        vertical-align: middle;\n",
       "    }\n",
       "\n",
       "    .dataframe tbody tr th {\n",
       "        vertical-align: top;\n",
       "    }\n",
       "\n",
       "    .dataframe thead th {\n",
       "        text-align: right;\n",
       "    }\n",
       "</style>\n",
       "<table border=\"1\" class=\"dataframe\">\n",
       "  <thead>\n",
       "    <tr style=\"text-align: right;\">\n",
       "      <th></th>\n",
       "      <th>moga</th>\n",
       "      <th>tuhan</th>\n",
       "      <th>akibat</th>\n",
       "      <th>beruntung</th>\n",
       "      <th>bebas</th>\n",
       "      <th>ayo</th>\n",
       "      <th>sukses</th>\n",
       "      <th>lengkap</th>\n",
       "      <th>terhindar</th>\n",
       "      <th>tular</th>\n",
       "      <th>...</th>\n",
       "      <th>ejakulasi</th>\n",
       "      <th>kunyah</th>\n",
       "      <th>hisap</th>\n",
       "      <th>eneng</th>\n",
       "      <th>monopoli</th>\n",
       "      <th>bertamu</th>\n",
       "      <th>berpasangan</th>\n",
       "      <th>domba</th>\n",
       "      <th>terbaring</th>\n",
       "      <th>sentiment</th>\n",
       "    </tr>\n",
       "  </thead>\n",
       "  <tbody>\n",
       "    <tr>\n",
       "      <th>0</th>\n",
       "      <td>1</td>\n",
       "      <td>1</td>\n",
       "      <td>0</td>\n",
       "      <td>0</td>\n",
       "      <td>0</td>\n",
       "      <td>0</td>\n",
       "      <td>0</td>\n",
       "      <td>0</td>\n",
       "      <td>0</td>\n",
       "      <td>0</td>\n",
       "      <td>...</td>\n",
       "      <td>0</td>\n",
       "      <td>0</td>\n",
       "      <td>0</td>\n",
       "      <td>0</td>\n",
       "      <td>0</td>\n",
       "      <td>0</td>\n",
       "      <td>0</td>\n",
       "      <td>0</td>\n",
       "      <td>0</td>\n",
       "      <td>4</td>\n",
       "    </tr>\n",
       "    <tr>\n",
       "      <th>1</th>\n",
       "      <td>0</td>\n",
       "      <td>0</td>\n",
       "      <td>1</td>\n",
       "      <td>1</td>\n",
       "      <td>1</td>\n",
       "      <td>0</td>\n",
       "      <td>0</td>\n",
       "      <td>0</td>\n",
       "      <td>0</td>\n",
       "      <td>0</td>\n",
       "      <td>...</td>\n",
       "      <td>0</td>\n",
       "      <td>0</td>\n",
       "      <td>0</td>\n",
       "      <td>0</td>\n",
       "      <td>0</td>\n",
       "      <td>0</td>\n",
       "      <td>0</td>\n",
       "      <td>0</td>\n",
       "      <td>0</td>\n",
       "      <td>1</td>\n",
       "    </tr>\n",
       "    <tr>\n",
       "      <th>2</th>\n",
       "      <td>0</td>\n",
       "      <td>0</td>\n",
       "      <td>0</td>\n",
       "      <td>0</td>\n",
       "      <td>0</td>\n",
       "      <td>1</td>\n",
       "      <td>1</td>\n",
       "      <td>1</td>\n",
       "      <td>1</td>\n",
       "      <td>1</td>\n",
       "      <td>...</td>\n",
       "      <td>0</td>\n",
       "      <td>0</td>\n",
       "      <td>0</td>\n",
       "      <td>0</td>\n",
       "      <td>0</td>\n",
       "      <td>0</td>\n",
       "      <td>0</td>\n",
       "      <td>0</td>\n",
       "      <td>0</td>\n",
       "      <td>5</td>\n",
       "    </tr>\n",
       "    <tr>\n",
       "      <th>3</th>\n",
       "      <td>0</td>\n",
       "      <td>0</td>\n",
       "      <td>0</td>\n",
       "      <td>0</td>\n",
       "      <td>0</td>\n",
       "      <td>0</td>\n",
       "      <td>0</td>\n",
       "      <td>1</td>\n",
       "      <td>1</td>\n",
       "      <td>1</td>\n",
       "      <td>...</td>\n",
       "      <td>0</td>\n",
       "      <td>0</td>\n",
       "      <td>0</td>\n",
       "      <td>0</td>\n",
       "      <td>0</td>\n",
       "      <td>0</td>\n",
       "      <td>0</td>\n",
       "      <td>0</td>\n",
       "      <td>0</td>\n",
       "      <td>-4</td>\n",
       "    </tr>\n",
       "    <tr>\n",
       "      <th>4</th>\n",
       "      <td>0</td>\n",
       "      <td>0</td>\n",
       "      <td>0</td>\n",
       "      <td>0</td>\n",
       "      <td>0</td>\n",
       "      <td>0</td>\n",
       "      <td>0</td>\n",
       "      <td>0</td>\n",
       "      <td>0</td>\n",
       "      <td>0</td>\n",
       "      <td>...</td>\n",
       "      <td>0</td>\n",
       "      <td>0</td>\n",
       "      <td>0</td>\n",
       "      <td>0</td>\n",
       "      <td>0</td>\n",
       "      <td>0</td>\n",
       "      <td>0</td>\n",
       "      <td>0</td>\n",
       "      <td>0</td>\n",
       "      <td>14</td>\n",
       "    </tr>\n",
       "    <tr>\n",
       "      <th>5</th>\n",
       "      <td>0</td>\n",
       "      <td>0</td>\n",
       "      <td>0</td>\n",
       "      <td>0</td>\n",
       "      <td>0</td>\n",
       "      <td>0</td>\n",
       "      <td>0</td>\n",
       "      <td>0</td>\n",
       "      <td>0</td>\n",
       "      <td>0</td>\n",
       "      <td>...</td>\n",
       "      <td>0</td>\n",
       "      <td>0</td>\n",
       "      <td>0</td>\n",
       "      <td>0</td>\n",
       "      <td>0</td>\n",
       "      <td>0</td>\n",
       "      <td>0</td>\n",
       "      <td>0</td>\n",
       "      <td>0</td>\n",
       "      <td>-15</td>\n",
       "    </tr>\n",
       "    <tr>\n",
       "      <th>6</th>\n",
       "      <td>0</td>\n",
       "      <td>0</td>\n",
       "      <td>0</td>\n",
       "      <td>0</td>\n",
       "      <td>0</td>\n",
       "      <td>0</td>\n",
       "      <td>0</td>\n",
       "      <td>0</td>\n",
       "      <td>0</td>\n",
       "      <td>0</td>\n",
       "      <td>...</td>\n",
       "      <td>0</td>\n",
       "      <td>0</td>\n",
       "      <td>0</td>\n",
       "      <td>0</td>\n",
       "      <td>0</td>\n",
       "      <td>0</td>\n",
       "      <td>0</td>\n",
       "      <td>0</td>\n",
       "      <td>0</td>\n",
       "      <td>-6</td>\n",
       "    </tr>\n",
       "    <tr>\n",
       "      <th>7</th>\n",
       "      <td>0</td>\n",
       "      <td>0</td>\n",
       "      <td>0</td>\n",
       "      <td>0</td>\n",
       "      <td>0</td>\n",
       "      <td>0</td>\n",
       "      <td>0</td>\n",
       "      <td>0</td>\n",
       "      <td>0</td>\n",
       "      <td>0</td>\n",
       "      <td>...</td>\n",
       "      <td>0</td>\n",
       "      <td>0</td>\n",
       "      <td>0</td>\n",
       "      <td>0</td>\n",
       "      <td>0</td>\n",
       "      <td>0</td>\n",
       "      <td>0</td>\n",
       "      <td>0</td>\n",
       "      <td>0</td>\n",
       "      <td>4</td>\n",
       "    </tr>\n",
       "    <tr>\n",
       "      <th>8</th>\n",
       "      <td>0</td>\n",
       "      <td>0</td>\n",
       "      <td>0</td>\n",
       "      <td>0</td>\n",
       "      <td>0</td>\n",
       "      <td>0</td>\n",
       "      <td>0</td>\n",
       "      <td>0</td>\n",
       "      <td>0</td>\n",
       "      <td>0</td>\n",
       "      <td>...</td>\n",
       "      <td>0</td>\n",
       "      <td>0</td>\n",
       "      <td>0</td>\n",
       "      <td>0</td>\n",
       "      <td>0</td>\n",
       "      <td>0</td>\n",
       "      <td>0</td>\n",
       "      <td>0</td>\n",
       "      <td>0</td>\n",
       "      <td>-8</td>\n",
       "    </tr>\n",
       "    <tr>\n",
       "      <th>9</th>\n",
       "      <td>0</td>\n",
       "      <td>0</td>\n",
       "      <td>0</td>\n",
       "      <td>0</td>\n",
       "      <td>0</td>\n",
       "      <td>0</td>\n",
       "      <td>0</td>\n",
       "      <td>0</td>\n",
       "      <td>0</td>\n",
       "      <td>0</td>\n",
       "      <td>...</td>\n",
       "      <td>0</td>\n",
       "      <td>0</td>\n",
       "      <td>0</td>\n",
       "      <td>0</td>\n",
       "      <td>0</td>\n",
       "      <td>0</td>\n",
       "      <td>0</td>\n",
       "      <td>0</td>\n",
       "      <td>0</td>\n",
       "      <td>1</td>\n",
       "    </tr>\n",
       "  </tbody>\n",
       "</table>\n",
       "<p>10 rows × 3388 columns</p>\n",
       "</div>"
      ],
      "text/plain": [
       "   moga  tuhan  akibat  beruntung  bebas  ayo  sukses  lengkap  terhindar  \\\n",
       "0     1      1       0          0      0    0       0        0          0   \n",
       "1     0      0       1          1      1    0       0        0          0   \n",
       "2     0      0       0          0      0    1       1        1          1   \n",
       "3     0      0       0          0      0    0       0        1          1   \n",
       "4     0      0       0          0      0    0       0        0          0   \n",
       "5     0      0       0          0      0    0       0        0          0   \n",
       "6     0      0       0          0      0    0       0        0          0   \n",
       "7     0      0       0          0      0    0       0        0          0   \n",
       "8     0      0       0          0      0    0       0        0          0   \n",
       "9     0      0       0          0      0    0       0        0          0   \n",
       "\n",
       "   tular  ...  ejakulasi  kunyah  hisap  eneng  monopoli  bertamu  \\\n",
       "0      0  ...          0       0      0      0         0        0   \n",
       "1      0  ...          0       0      0      0         0        0   \n",
       "2      1  ...          0       0      0      0         0        0   \n",
       "3      1  ...          0       0      0      0         0        0   \n",
       "4      0  ...          0       0      0      0         0        0   \n",
       "5      0  ...          0       0      0      0         0        0   \n",
       "6      0  ...          0       0      0      0         0        0   \n",
       "7      0  ...          0       0      0      0         0        0   \n",
       "8      0  ...          0       0      0      0         0        0   \n",
       "9      0  ...          0       0      0      0         0        0   \n",
       "\n",
       "   berpasangan  domba  terbaring  sentiment  \n",
       "0            0      0          0          4  \n",
       "1            0      0          0          1  \n",
       "2            0      0          0          5  \n",
       "3            0      0          0         -4  \n",
       "4            0      0          0         14  \n",
       "5            0      0          0        -15  \n",
       "6            0      0          0         -6  \n",
       "7            0      0          0          4  \n",
       "8            0      0          0         -8  \n",
       "9            0      0          0          1  \n",
       "\n",
       "[10 rows x 3388 columns]"
      ]
     },
     "execution_count": 141,
     "metadata": {},
     "output_type": "execute_result"
    }
   ],
   "source": [
    "df_sen.head(10)"
   ]
  },
  {
   "cell_type": "markdown",
   "metadata": {},
   "source": [
    "lets see if the sentiment is correct by looking at the original text"
   ]
  },
  {
   "cell_type": "code",
   "execution_count": 143,
   "metadata": {},
   "outputs": [],
   "source": [
    "cek_df = pd.DataFrame([])\n",
    "cek_df['text'] = df['content'].copy()\n",
    "cek_df['sentiment']  = df_sen['sentiment'].copy()"
   ]
  },
  {
   "cell_type": "code",
   "execution_count": 148,
   "metadata": {},
   "outputs": [
    {
     "data": {
      "text/html": [
       "<div>\n",
       "<style scoped>\n",
       "    .dataframe tbody tr th:only-of-type {\n",
       "        vertical-align: middle;\n",
       "    }\n",
       "\n",
       "    .dataframe tbody tr th {\n",
       "        vertical-align: top;\n",
       "    }\n",
       "\n",
       "    .dataframe thead th {\n",
       "        text-align: right;\n",
       "    }\n",
       "</style>\n",
       "<table border=\"1\" class=\"dataframe\">\n",
       "  <thead>\n",
       "    <tr style=\"text-align: right;\">\n",
       "      <th></th>\n",
       "      <th>text</th>\n",
       "      <th>sentiment</th>\n",
       "    </tr>\n",
       "  </thead>\n",
       "  <tbody>\n",
       "    <tr>\n",
       "      <th>0</th>\n",
       "      <td>Semoga g omicron ya Tuhan</td>\n",
       "      <td>4</td>\n",
       "    </tr>\n",
       "    <tr>\n",
       "      <th>1</th>\n",
       "      <td>@dinagustavsson Ada delta,omicron ,cacar munyuk,sampe HIV....\\nSEMUANYA AKIBAT VAX C19...\\nBERUN...</td>\n",
       "      <td>1</td>\n",
       "    </tr>\n",
       "    <tr>\n",
       "      <th>2</th>\n",
       "      <td>Ayo sukseskan vaksinasi Covid-19 dengan melakukan vaksin dosis lengkap agar terhindar dari penul...</td>\n",
       "      <td>5</td>\n",
       "    </tr>\n",
       "    <tr>\n",
       "      <th>3</th>\n",
       "      <td>Agar terhindar dr varian baru omicron BA.4 &amp;amp; BA.5, masyarakat dihimbau melakukan vaksinasi c...</td>\n",
       "      <td>-4</td>\n",
       "    </tr>\n",
       "    <tr>\n",
       "      <th>4</th>\n",
       "      <td>Ambil baik nya, pas kenapa omicron, pertama bisa buat account tik tok haha Dan tik tok an.. than...</td>\n",
       "      <td>14</td>\n",
       "    </tr>\n",
       "    <tr>\n",
       "      <th>...</th>\n",
       "      <td>...</td>\n",
       "      <td>...</td>\n",
       "    </tr>\n",
       "    <tr>\n",
       "      <th>21049</th>\n",
       "      <td>Adekk cintak nggak selalu indah dek, omicron apalagi wkwk https://t.co/R5RknME5Xj</td>\n",
       "      <td>-3</td>\n",
       "    </tr>\n",
       "    <tr>\n",
       "      <th>21050</th>\n",
       "      <td>hari ini menyenangkan,\\npagi - sore: istirahat &amp;amp; \"nyepi\" di rumah\\nsore - maghrib: main skat...</td>\n",
       "      <td>-2</td>\n",
       "    </tr>\n",
       "    <tr>\n",
       "      <th>21051</th>\n",
       "      <td>@pacarbighit dirumahh, yang nobar hati2 omicron lg tinggi banget &amp;lt;3</td>\n",
       "      <td>6</td>\n",
       "    </tr>\n",
       "    <tr>\n",
       "      <th>21052</th>\n",
       "      <td>@helloverrrr W lg kena omicron haha</td>\n",
       "      <td>2</td>\n",
       "    </tr>\n",
       "    <tr>\n",
       "      <th>21053</th>\n",
       "      <td>@tubbirfess Ini gw lagi omicron anjg bgsttttt</td>\n",
       "      <td>-5</td>\n",
       "    </tr>\n",
       "  </tbody>\n",
       "</table>\n",
       "<p>21054 rows × 2 columns</p>\n",
       "</div>"
      ],
      "text/plain": [
       "                                                                                                      text  \\\n",
       "0                                                                                Semoga g omicron ya Tuhan   \n",
       "1      @dinagustavsson Ada delta,omicron ,cacar munyuk,sampe HIV....\\nSEMUANYA AKIBAT VAX C19...\\nBERUN...   \n",
       "2      Ayo sukseskan vaksinasi Covid-19 dengan melakukan vaksin dosis lengkap agar terhindar dari penul...   \n",
       "3      Agar terhindar dr varian baru omicron BA.4 &amp; BA.5, masyarakat dihimbau melakukan vaksinasi c...   \n",
       "4      Ambil baik nya, pas kenapa omicron, pertama bisa buat account tik tok haha Dan tik tok an.. than...   \n",
       "...                                                                                                    ...   \n",
       "21049                    Adekk cintak nggak selalu indah dek, omicron apalagi wkwk https://t.co/R5RknME5Xj   \n",
       "21050  hari ini menyenangkan,\\npagi - sore: istirahat &amp; \"nyepi\" di rumah\\nsore - maghrib: main skat...   \n",
       "21051                               @pacarbighit dirumahh, yang nobar hati2 omicron lg tinggi banget &lt;3   \n",
       "21052                                                                  @helloverrrr W lg kena omicron haha   \n",
       "21053                                                        @tubbirfess Ini gw lagi omicron anjg bgsttttt   \n",
       "\n",
       "       sentiment  \n",
       "0              4  \n",
       "1              1  \n",
       "2              5  \n",
       "3             -4  \n",
       "4             14  \n",
       "...          ...  \n",
       "21049         -3  \n",
       "21050         -2  \n",
       "21051          6  \n",
       "21052          2  \n",
       "21053         -5  \n",
       "\n",
       "[21054 rows x 2 columns]"
      ]
     },
     "execution_count": 148,
     "metadata": {},
     "output_type": "execute_result"
    }
   ],
   "source": [
    "cek_df"
   ]
  },
  {
   "cell_type": "code",
   "execution_count": 156,
   "metadata": {},
   "outputs": [],
   "source": [
    "cek_df.to_csv('omicron_sentiment.csv')\n",
    "cek_df.to_excel('omicron_sentiment.xlsx')"
   ]
  },
  {
   "cell_type": "markdown",
   "metadata": {},
   "source": [
    "# EDA"
   ]
  },
  {
   "cell_type": "code",
   "execution_count": 145,
   "metadata": {},
   "outputs": [
    {
     "data": {
      "text/plain": [
       "Text(0.5, 0, 'sentiment')"
      ]
     },
     "execution_count": 145,
     "metadata": {},
     "output_type": "execute_result"
    },
    {
     "data": {
      "image/png": "[encoded data removed]",
      "text/plain": [
       "<Figure size 432x288 with 1 Axes>"
      ]
     },
     "metadata": {},
     "output_type": "display_data"
    }
   ],
   "source": [
    "sns.set(style=\"white\", palette=\"muted\", color_codes=True)\n",
    "sns.kdeplot(df_sen['sentiment'],color='m',shade=True)\n",
    "plt.title('Sentiment Distribution')\n",
    "plt.xlabel('sentiment')"
   ]
  },
  {
   "cell_type": "code",
   "execution_count": 146,
   "metadata": {},
   "outputs": [
    {
     "data": {
      "text/plain": [
       "<AxesSubplot:xlabel='sentiment'>"
      ]
     },
     "execution_count": 146,
     "metadata": {},
     "output_type": "execute_result"
    },
    {
     "data": {
      "image/png": "[encoded data removed]",
      "text/plain": [
       "<Figure size 432x288 with 1 Axes>"
      ]
     },
     "metadata": {},
     "output_type": "display_data"
    }
   ],
   "source": [
    "sns.set(style=\"whitegrid\") \n",
    "sns.boxplot(x=df_sen['sentiment'])"
   ]
  },
  {
   "cell_type": "markdown",
   "metadata": {},
   "source": [
    "It look like the sentiments are equally distributed between positive and negative, to be sure, lets take a look at the mean"
   ]
  },
  {
   "cell_type": "code",
   "execution_count": 147,
   "metadata": {},
   "outputs": [
    {
     "data": {
      "text/html": [
       "<div>\n",
       "<style scoped>\n",
       "    .dataframe tbody tr th:only-of-type {\n",
       "        vertical-align: middle;\n",
       "    }\n",
       "\n",
       "    .dataframe tbody tr th {\n",
       "        vertical-align: top;\n",
       "    }\n",
       "\n",
       "    .dataframe thead th {\n",
       "        text-align: right;\n",
       "    }\n",
       "</style>\n",
       "<table border=\"1\" class=\"dataframe\">\n",
       "  <thead>\n",
       "    <tr style=\"text-align: right;\">\n",
       "      <th></th>\n",
       "      <th>moga</th>\n",
       "      <th>tuhan</th>\n",
       "      <th>akibat</th>\n",
       "      <th>beruntung</th>\n",
       "      <th>bebas</th>\n",
       "      <th>ayo</th>\n",
       "      <th>sukses</th>\n",
       "      <th>lengkap</th>\n",
       "      <th>terhindar</th>\n",
       "      <th>tular</th>\n",
       "      <th>...</th>\n",
       "      <th>ejakulasi</th>\n",
       "      <th>kunyah</th>\n",
       "      <th>hisap</th>\n",
       "      <th>eneng</th>\n",
       "      <th>monopoli</th>\n",
       "      <th>bertamu</th>\n",
       "      <th>berpasangan</th>\n",
       "      <th>domba</th>\n",
       "      <th>terbaring</th>\n",
       "      <th>sentiment</th>\n",
       "    </tr>\n",
       "  </thead>\n",
       "  <tbody>\n",
       "    <tr>\n",
       "      <th>count</th>\n",
       "      <td>21054.000000</td>\n",
       "      <td>21054.000000</td>\n",
       "      <td>21054.00000</td>\n",
       "      <td>21054.000000</td>\n",
       "      <td>21054.000000</td>\n",
       "      <td>21054.000000</td>\n",
       "      <td>21054.000000</td>\n",
       "      <td>21054.000000</td>\n",
       "      <td>21054.000000</td>\n",
       "      <td>21054.000000</td>\n",
       "      <td>...</td>\n",
       "      <td>21054.000000</td>\n",
       "      <td>21054.000000</td>\n",
       "      <td>21054.000000</td>\n",
       "      <td>21054.000000</td>\n",
       "      <td>21054.000000</td>\n",
       "      <td>21054.000000</td>\n",
       "      <td>21054.000000</td>\n",
       "      <td>21054.000000</td>\n",
       "      <td>21054.000000</td>\n",
       "      <td>21054.000000</td>\n",
       "    </tr>\n",
       "    <tr>\n",
       "      <th>mean</th>\n",
       "      <td>0.025743</td>\n",
       "      <td>0.003087</td>\n",
       "      <td>0.00665</td>\n",
       "      <td>0.000570</td>\n",
       "      <td>0.005842</td>\n",
       "      <td>0.006270</td>\n",
       "      <td>0.001330</td>\n",
       "      <td>0.004797</td>\n",
       "      <td>0.003135</td>\n",
       "      <td>0.010497</td>\n",
       "      <td>...</td>\n",
       "      <td>0.000047</td>\n",
       "      <td>0.000047</td>\n",
       "      <td>0.000047</td>\n",
       "      <td>0.000047</td>\n",
       "      <td>0.000047</td>\n",
       "      <td>0.000047</td>\n",
       "      <td>0.000047</td>\n",
       "      <td>0.000047</td>\n",
       "      <td>0.000047</td>\n",
       "      <td>0.136221</td>\n",
       "    </tr>\n",
       "    <tr>\n",
       "      <th>std</th>\n",
       "      <td>0.170504</td>\n",
       "      <td>0.057991</td>\n",
       "      <td>0.08358</td>\n",
       "      <td>0.023868</td>\n",
       "      <td>0.086158</td>\n",
       "      <td>0.081888</td>\n",
       "      <td>0.036445</td>\n",
       "      <td>0.071129</td>\n",
       "      <td>0.055903</td>\n",
       "      <td>0.102845</td>\n",
       "      <td>...</td>\n",
       "      <td>0.006892</td>\n",
       "      <td>0.006892</td>\n",
       "      <td>0.006892</td>\n",
       "      <td>0.006892</td>\n",
       "      <td>0.006892</td>\n",
       "      <td>0.006892</td>\n",
       "      <td>0.006892</td>\n",
       "      <td>0.006892</td>\n",
       "      <td>0.006892</td>\n",
       "      <td>7.507096</td>\n",
       "    </tr>\n",
       "    <tr>\n",
       "      <th>min</th>\n",
       "      <td>0.000000</td>\n",
       "      <td>0.000000</td>\n",
       "      <td>0.00000</td>\n",
       "      <td>0.000000</td>\n",
       "      <td>0.000000</td>\n",
       "      <td>0.000000</td>\n",
       "      <td>0.000000</td>\n",
       "      <td>0.000000</td>\n",
       "      <td>0.000000</td>\n",
       "      <td>0.000000</td>\n",
       "      <td>...</td>\n",
       "      <td>0.000000</td>\n",
       "      <td>0.000000</td>\n",
       "      <td>0.000000</td>\n",
       "      <td>0.000000</td>\n",
       "      <td>0.000000</td>\n",
       "      <td>0.000000</td>\n",
       "      <td>0.000000</td>\n",
       "      <td>0.000000</td>\n",
       "      <td>0.000000</td>\n",
       "      <td>-70.000000</td>\n",
       "    </tr>\n",
       "    <tr>\n",
       "      <th>25%</th>\n",
       "      <td>0.000000</td>\n",
       "      <td>0.000000</td>\n",
       "      <td>0.00000</td>\n",
       "      <td>0.000000</td>\n",
       "      <td>0.000000</td>\n",
       "      <td>0.000000</td>\n",
       "      <td>0.000000</td>\n",
       "      <td>0.000000</td>\n",
       "      <td>0.000000</td>\n",
       "      <td>0.000000</td>\n",
       "      <td>...</td>\n",
       "      <td>0.000000</td>\n",
       "      <td>0.000000</td>\n",
       "      <td>0.000000</td>\n",
       "      <td>0.000000</td>\n",
       "      <td>0.000000</td>\n",
       "      <td>0.000000</td>\n",
       "      <td>0.000000</td>\n",
       "      <td>0.000000</td>\n",
       "      <td>0.000000</td>\n",
       "      <td>-4.000000</td>\n",
       "    </tr>\n",
       "    <tr>\n",
       "      <th>50%</th>\n",
       "      <td>0.000000</td>\n",
       "      <td>0.000000</td>\n",
       "      <td>0.00000</td>\n",
       "      <td>0.000000</td>\n",
       "      <td>0.000000</td>\n",
       "      <td>0.000000</td>\n",
       "      <td>0.000000</td>\n",
       "      <td>0.000000</td>\n",
       "      <td>0.000000</td>\n",
       "      <td>0.000000</td>\n",
       "      <td>...</td>\n",
       "      <td>0.000000</td>\n",
       "      <td>0.000000</td>\n",
       "      <td>0.000000</td>\n",
       "      <td>0.000000</td>\n",
       "      <td>0.000000</td>\n",
       "      <td>0.000000</td>\n",
       "      <td>0.000000</td>\n",
       "      <td>0.000000</td>\n",
       "      <td>0.000000</td>\n",
       "      <td>0.000000</td>\n",
       "    </tr>\n",
       "    <tr>\n",
       "      <th>75%</th>\n",
       "      <td>0.000000</td>\n",
       "      <td>0.000000</td>\n",
       "      <td>0.00000</td>\n",
       "      <td>0.000000</td>\n",
       "      <td>0.000000</td>\n",
       "      <td>0.000000</td>\n",
       "      <td>0.000000</td>\n",
       "      <td>0.000000</td>\n",
       "      <td>0.000000</td>\n",
       "      <td>0.000000</td>\n",
       "      <td>...</td>\n",
       "      <td>0.000000</td>\n",
       "      <td>0.000000</td>\n",
       "      <td>0.000000</td>\n",
       "      <td>0.000000</td>\n",
       "      <td>0.000000</td>\n",
       "      <td>0.000000</td>\n",
       "      <td>0.000000</td>\n",
       "      <td>0.000000</td>\n",
       "      <td>0.000000</td>\n",
       "      <td>4.000000</td>\n",
       "    </tr>\n",
       "    <tr>\n",
       "      <th>max</th>\n",
       "      <td>4.000000</td>\n",
       "      <td>2.000000</td>\n",
       "      <td>2.00000</td>\n",
       "      <td>1.000000</td>\n",
       "      <td>4.000000</td>\n",
       "      <td>2.000000</td>\n",
       "      <td>1.000000</td>\n",
       "      <td>2.000000</td>\n",
       "      <td>1.000000</td>\n",
       "      <td>2.000000</td>\n",
       "      <td>...</td>\n",
       "      <td>1.000000</td>\n",
       "      <td>1.000000</td>\n",
       "      <td>1.000000</td>\n",
       "      <td>1.000000</td>\n",
       "      <td>1.000000</td>\n",
       "      <td>1.000000</td>\n",
       "      <td>1.000000</td>\n",
       "      <td>1.000000</td>\n",
       "      <td>1.000000</td>\n",
       "      <td>45.000000</td>\n",
       "    </tr>\n",
       "  </tbody>\n",
       "</table>\n",
       "<p>8 rows × 3388 columns</p>\n",
       "</div>"
      ],
      "text/plain": [
       "               moga         tuhan       akibat     beruntung         bebas  \\\n",
       "count  21054.000000  21054.000000  21054.00000  21054.000000  21054.000000   \n",
       "mean       0.025743      0.003087      0.00665      0.000570      0.005842   \n",
       "std        0.170504      0.057991      0.08358      0.023868      0.086158   \n",
       "min        0.000000      0.000000      0.00000      0.000000      0.000000   \n",
       "25%        0.000000      0.000000      0.00000      0.000000      0.000000   \n",
       "50%        0.000000      0.000000      0.00000      0.000000      0.000000   \n",
       "75%        0.000000      0.000000      0.00000      0.000000      0.000000   \n",
       "max        4.000000      2.000000      2.00000      1.000000      4.000000   \n",
       "\n",
       "                ayo        sukses       lengkap     terhindar         tular  \\\n",
       "count  21054.000000  21054.000000  21054.000000  21054.000000  21054.000000   \n",
       "mean       0.006270      0.001330      0.004797      0.003135      0.010497   \n",
       "std        0.081888      0.036445      0.071129      0.055903      0.102845   \n",
       "min        0.000000      0.000000      0.000000      0.000000      0.000000   \n",
       "25%        0.000000      0.000000      0.000000      0.000000      0.000000   \n",
       "50%        0.000000      0.000000      0.000000      0.000000      0.000000   \n",
       "75%        0.000000      0.000000      0.000000      0.000000      0.000000   \n",
       "max        2.000000      1.000000      2.000000      1.000000      2.000000   \n",
       "\n",
       "       ...     ejakulasi        kunyah         hisap         eneng  \\\n",
       "count  ...  21054.000000  21054.000000  21054.000000  21054.000000   \n",
       "mean   ...      0.000047      0.000047      0.000047      0.000047   \n",
       "std    ...      0.006892      0.006892      0.006892      0.006892   \n",
       "min    ...      0.000000      0.000000      0.000000      0.000000   \n",
       "25%    ...      0.000000      0.000000      0.000000      0.000000   \n",
       "50%    ...      0.000000      0.000000      0.000000      0.000000   \n",
       "75%    ...      0.000000      0.000000      0.000000      0.000000   \n",
       "max    ...      1.000000      1.000000      1.000000      1.000000   \n",
       "\n",
       "           monopoli       bertamu   berpasangan         domba     terbaring  \\\n",
       "count  21054.000000  21054.000000  21054.000000  21054.000000  21054.000000   \n",
       "mean       0.000047      0.000047      0.000047      0.000047      0.000047   \n",
       "std        0.006892      0.006892      0.006892      0.006892      0.006892   \n",
       "min        0.000000      0.000000      0.000000      0.000000      0.000000   \n",
       "25%        0.000000      0.000000      0.000000      0.000000      0.000000   \n",
       "50%        0.000000      0.000000      0.000000      0.000000      0.000000   \n",
       "75%        0.000000      0.000000      0.000000      0.000000      0.000000   \n",
       "max        1.000000      1.000000      1.000000      1.000000      1.000000   \n",
       "\n",
       "          sentiment  \n",
       "count  21054.000000  \n",
       "mean       0.136221  \n",
       "std        7.507096  \n",
       "min      -70.000000  \n",
       "25%       -4.000000  \n",
       "50%        0.000000  \n",
       "75%        4.000000  \n",
       "max       45.000000  \n",
       "\n",
       "[8 rows x 3388 columns]"
      ]
     },
     "execution_count": 147,
     "metadata": {},
     "output_type": "execute_result"
    }
   ],
   "source": [
    "df_sen.describe()"
   ]
  },
  {
   "cell_type": "markdown",
   "metadata": {},
   "source": [
    "now lets take a look at the most occured words among the set of words that is included in lexicon"
   ]
  },
  {
   "cell_type": "code",
   "execution_count": 151,
   "metadata": {},
   "outputs": [],
   "source": [
    "top15_word = df_sen.drop(['sentiment'],axis=1).sum().sort_values(ascending=False)[0:15]"
   ]
  },
  {
   "cell_type": "code",
   "execution_count": 152,
   "metadata": {},
   "outputs": [
    {
     "data": {
      "image/png": "[encoded data removed]",
      "text/plain": [
       "<Figure size 432x288 with 1 Axes>"
      ]
     },
     "metadata": {},
     "output_type": "display_data"
    }
   ],
   "source": [
    "#pal =sns.dark_palette(\"purple\", input=\"xkcd\",n_colors=15)\n",
    "pal =sns.light_palette(\"navy\", reverse=True,n_colors=15)\n",
    "g = sns.barplot(y = top15_word.index , x = top15_word,palette=pal)\n",
    "g.grid(False)\n",
    "plt.xlabel('Occurences')\n",
    "plt.ylabel('Words')\n",
    "plt.title(\"Top 15 Most Often Occured Words\",fontweight='bold') \n",
    "for i in range(15):\n",
    "    g.text(top15_word[i],i+0.22, top15_word[i],color='black')\n",
    "plt.show()"
   ]
  }
 ],
 "metadata": {
  "kernelspec": {
   "display_name": "Python 3 (ipykernel)",
   "language": "python",
   "name": "python3"
  },
  "language_info": {
   "codemirror_mode": {
    "name": "ipython",
    "version": 3
   },
   "file_extension": ".py",
   "mimetype": "text/x-python",
   "name": "python",
   "nbconvert_exporter": "python",
   "pygments_lexer": "ipython3",
   "version": "3.9.5"
  }
 },
 "nbformat": 4,
 "nbformat_minor": 4
}
